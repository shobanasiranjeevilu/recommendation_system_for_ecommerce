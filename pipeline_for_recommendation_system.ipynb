{
 "cells": [
  {
   "cell_type": "code",
   "execution_count": null,
   "metadata": {
    "application/vnd.databricks.v1+cell": {
     "cellMetadata": {
      "byteLimit": 2048000,
      "rowLimit": 10000
     },
     "inputWidgets": {},
     "nuid": "cb4eed87-1b18-4d19-910e-488b92a62aaa",
     "showTitle": false,
     "title": ""
    }
   },
   "outputs": [
    {
     "name": "stdout",
     "output_type": "stream",
     "text": [
      "\u001b[33mWARNING: You are using pip version 21.2.4; however, version 23.1.2 is available.\r\n",
      "You should consider upgrading via the '/local_disk0/.ephemeral_nfs/envs/pythonEnv-480d7415-fffa-4673-8ce6-162ff70e6817/bin/python -m pip install --upgrade pip' command.\u001b[0m\r\n"
     ]
    }
   ],
   "source": [
    "!pip3 install textblob --quiet\n"
   ]
  },
  {
   "cell_type": "markdown",
   "metadata": {
    "application/vnd.databricks.v1+cell": {
     "cellMetadata": {
      "byteLimit": 2048000,
      "rowLimit": 10000
     },
     "inputWidgets": {},
     "nuid": "8970e37b-b4e6-493b-b708-41e57d663ae1",
     "showTitle": false,
     "title": ""
    }
   },
   "source": [
    "Note: Install graphframes library before running"
   ]
  },
  {
   "cell_type": "markdown",
   "metadata": {
    "application/vnd.databricks.v1+cell": {
     "cellMetadata": {},
     "inputWidgets": {},
     "nuid": "466a2c2a-cd6a-4912-99c6-413354a2e917",
     "showTitle": false,
     "title": ""
    }
   },
   "source": [
    "#### DATA:\n",
    "\n",
    "  DATA COLUMNS:\n",
    "  1. marketplace       - 2 letter country code of the marketplace where the review was written.\n",
    "  2. customer_id       - Random identifier that can be used to aggregate reviews written by a single author.\n",
    "  3. review_id         - The unique ID of the review.\n",
    "  4. product_id        - The unique Product ID the review pertains to. In the multilingual dataset the reviews\n",
    "                      for the same product in different countries can be grouped by the same product_id.\n",
    "  5. product_parent    - Random identifier that can be used to aggregate reviews for the same product.\n",
    "  6. product_title     - Title of the product.\n",
    "  7. product_category  - Broad product category that can be used to group reviews \n",
    "                      (also used to group the dataset into coherent parts).\n",
    "  8. star_rating       - The 1-5 star rating of the review.\n",
    "  9. helpful_votes     - Number of helpful votes.\n",
    "  10. total_votes       - Number of total votes the review received.\n",
    "  11. vine              - Review was written as part of the Vine program.\n",
    "  12. verified_purchase - The review is on a verified purchase.\n",
    "  13. review_headline   - The title of the review.\n",
    "  14. review_body       - The review text.\n",
    "  15. review_date       - The date the review was written.\n",
    "\n"
   ]
  },
  {
   "cell_type": "code",
   "execution_count": null,
   "metadata": {
    "application/vnd.databricks.v1+cell": {
     "cellMetadata": {
      "byteLimit": 2048000,
      "rowLimit": 10000
     },
     "inputWidgets": {},
     "nuid": "b9e2902b-aa09-4cf6-8e30-429be028a1af",
     "showTitle": false,
     "title": ""
    }
   },
   "outputs": [],
   "source": [
    "import pandas as pd\n",
    "import matplotlib.pyplot as plt\n",
    "import seaborn as sns\n",
    "from textblob import TextBlob\n",
    "\n",
    "import pyspark.sql.functions as F\n",
    "from pyspark.sql.functions import pandas_udf\n",
    "from pyspark.sql.types import StringType,FloatType\n",
    "\n",
    "#for pagerank\n",
    "from graphframes import GraphFrame\n",
    "from pyspark.ml.feature import VectorAssembler\n",
    "from pyspark.ml.clustering import KMeans\n",
    "from pyspark.ml.evaluation import ClusteringEvaluator\n",
    "\n",
    "#for NLP\n",
    "from sklearn.feature_extraction.text import TfidfVectorizer\n",
    "from sklearn.metrics.pairwise import cosine_similarity"
   ]
  },
  {
   "cell_type": "markdown",
   "metadata": {
    "application/vnd.databricks.v1+cell": {
     "cellMetadata": {},
     "inputWidgets": {},
     "nuid": "46bac067-1874-46bb-a9f4-1e87b02ca011",
     "showTitle": false,
     "title": ""
    }
   },
   "source": [
    "### Loading data"
   ]
  },
  {
   "cell_type": "markdown",
   "metadata": {
    "application/vnd.databricks.v1+cell": {
     "cellMetadata": {},
     "inputWidgets": {},
     "nuid": "fa2f50f5-5700-4964-ab2e-633fad6c25ed",
     "showTitle": false,
     "title": ""
    }
   },
   "source": [
    "#### Loading watches reviews"
   ]
  },
  {
   "cell_type": "code",
   "execution_count": null,
   "metadata": {
    "application/vnd.databricks.v1+cell": {
     "cellMetadata": {
      "byteLimit": 2048000,
      "rowLimit": 10000
     },
     "inputWidgets": {},
     "nuid": "77061a50-dab3-4a74-aabb-74b81901fa9f",
     "showTitle": false,
     "title": ""
    }
   },
   "outputs": [],
   "source": [
    "# File location \n",
    "file_location = \"/FileStore/tables/amazon_reviews_us_Watches_v1_00.tsv\"\n",
    "df_watches_review = spark.read.format('csv') \\\n",
    "      .option('header', 'true') \\\n",
    "      .option('delimiter', '\\t') \\\n",
    "      .option('inferSchema', 'true') \\\n",
    "      .load(file_location)"
   ]
  },
  {
   "cell_type": "code",
   "execution_count": null,
   "metadata": {
    "application/vnd.databricks.v1+cell": {
     "cellMetadata": {
      "byteLimit": 2048000,
      "rowLimit": 10000
     },
     "inputWidgets": {},
     "nuid": "cd46d6e9-b31b-4222-a922-41c41ef8d627",
     "showTitle": false,
     "title": ""
    }
   },
   "outputs": [],
   "source": [
    "# limiting watches review, to add other category reviews\n",
    "df_watches_review_limited = df_watches_review.limit(500000)"
   ]
  },
  {
   "cell_type": "markdown",
   "metadata": {
    "application/vnd.databricks.v1+cell": {
     "cellMetadata": {},
     "inputWidgets": {},
     "nuid": "f470f36e-8a4d-4dfc-9d02-0b0489fdb858",
     "showTitle": false,
     "title": ""
    }
   },
   "source": [
    "#### Loading personal care reviews"
   ]
  },
  {
   "cell_type": "code",
   "execution_count": null,
   "metadata": {
    "application/vnd.databricks.v1+cell": {
     "cellMetadata": {
      "byteLimit": 2048000,
      "rowLimit": 10000
     },
     "inputWidgets": {},
     "nuid": "8d09417c-69df-462d-a427-07472c01cf97",
     "showTitle": false,
     "title": ""
    }
   },
   "outputs": [],
   "source": [
    "file_location = \"/FileStore/tables/amazon_reviews_us_Personal_Care_Appliances_v1_00.tsv\"\n",
    "\n",
    "df_personal_care_review = spark.read.format('csv') \\\n",
    "      .option('header', 'true') \\\n",
    "      .option('delimiter', '\\t') \\\n",
    "      .option('inferSchema', 'true') \\\n",
    "      .load(file_location)\n"
   ]
  },
  {
   "cell_type": "code",
   "execution_count": null,
   "metadata": {
    "application/vnd.databricks.v1+cell": {
     "cellMetadata": {
      "byteLimit": 2048000,
      "rowLimit": 10000
     },
     "inputWidgets": {},
     "nuid": "29dca60e-a543-4e0f-9b2b-cffca5bfa53e",
     "showTitle": false,
     "title": ""
    }
   },
   "outputs": [
    {
     "name": "stdout",
     "output_type": "stream",
     "text": [
      "Out[6]: 85981"
     ]
    }
   ],
   "source": [
    "df_personal_care_review.count()"
   ]
  },
  {
   "cell_type": "markdown",
   "metadata": {
    "application/vnd.databricks.v1+cell": {
     "cellMetadata": {},
     "inputWidgets": {},
     "nuid": "fcb76b80-911e-4865-9931-24599a76e3b8",
     "showTitle": false,
     "title": ""
    }
   },
   "source": [
    "#### Loading gift card reviews"
   ]
  },
  {
   "cell_type": "code",
   "execution_count": null,
   "metadata": {
    "application/vnd.databricks.v1+cell": {
     "cellMetadata": {
      "byteLimit": 2048000,
      "rowLimit": 10000
     },
     "inputWidgets": {},
     "nuid": "016811b9-cef9-48ca-baa1-bf98b63f118f",
     "showTitle": false,
     "title": ""
    }
   },
   "outputs": [],
   "source": [
    "\n",
    "file_location = \"/FileStore/tables/amazon_reviews_us_Gift_Card_v1_00.tsv\"\n",
    "\n",
    "df_gift_card_review = spark.read.format('csv') \\\n",
    "      .option('header', 'true') \\\n",
    "      .option('delimiter', '\\t') \\\n",
    "      .option('inferSchema', 'true') \\\n",
    "      .load(file_location)"
   ]
  },
  {
   "cell_type": "code",
   "execution_count": null,
   "metadata": {
    "application/vnd.databricks.v1+cell": {
     "cellMetadata": {
      "byteLimit": 2048000,
      "rowLimit": 10000
     },
     "inputWidgets": {},
     "nuid": "0f936174-ebde-45af-8536-7af3df386cbb",
     "showTitle": false,
     "title": ""
    }
   },
   "outputs": [
    {
     "name": "stdout",
     "output_type": "stream",
     "text": [
      "Out[8]: 149086"
     ]
    }
   ],
   "source": [
    "df_gift_card_review.count()"
   ]
  },
  {
   "cell_type": "code",
   "execution_count": null,
   "metadata": {
    "application/vnd.databricks.v1+cell": {
     "cellMetadata": {
      "byteLimit": 2048000,
      "rowLimit": 10000
     },
     "inputWidgets": {},
     "nuid": "11354fd9-9919-48b9-8677-6e7395e99c79",
     "showTitle": false,
     "title": ""
    }
   },
   "outputs": [],
   "source": [
    "# union all three categories\n",
    "df_review_unioned = df_watches_review_limited.union(df_personal_care_review)\n",
    "df_reviews_for_all_category = df_review_unioned.union(df_gift_card_review)"
   ]
  },
  {
   "cell_type": "code",
   "execution_count": null,
   "metadata": {
    "application/vnd.databricks.v1+cell": {
     "cellMetadata": {
      "byteLimit": 2048000,
      "rowLimit": 10000
     },
     "inputWidgets": {},
     "nuid": "71b412a2-c1dc-4107-b86e-fe32d519ae31",
     "showTitle": false,
     "title": ""
    }
   },
   "outputs": [
    {
     "name": "stdout",
     "output_type": "stream",
     "text": [
      "The final count on the dataset is 735067\n"
     ]
    }
   ],
   "source": [
    "print(\"The final count on the dataset is {}\".format(df_reviews_for_all_category.count()))"
   ]
  },
  {
   "cell_type": "markdown",
   "metadata": {
    "application/vnd.databricks.v1+cell": {
     "cellMetadata": {},
     "inputWidgets": {},
     "nuid": "d26dfe81-10a4-4999-9571-0fe6ce9a0e30",
     "showTitle": false,
     "title": ""
    }
   },
   "source": [
    "##### adding sentiment column from star_rating"
   ]
  },
  {
   "cell_type": "code",
   "execution_count": null,
   "metadata": {
    "application/vnd.databricks.v1+cell": {
     "cellMetadata": {
      "byteLimit": 2048000,
      "rowLimit": 10000
     },
     "inputWidgets": {},
     "nuid": "dcf52231-16e8-4f7c-926f-1d154e08f3ba",
     "showTitle": false,
     "title": ""
    }
   },
   "outputs": [],
   "source": [
    "def sentiment(rating_series):\n",
    "    def classify(rating):\n",
    "        if rating == 3.0:\n",
    "            return \"Neutral\"\n",
    "        elif rating == 1.0 or rating == 2.0:\n",
    "            return \"Negative\"\n",
    "        elif rating >= 4.0:\n",
    "            return \"Positive\"\n",
    "    \n",
    "    return rating_series.apply(classify)\n",
    "\n",
    "finding_sentiment_pandas_udf = pandas_udf(sentiment, returnType=StringType())\n",
    "df_reviews_for_all_category = df_reviews_for_all_category.withColumn(\"sentiment\",finding_sentiment_pandas_udf(F.col('star_rating')))"
   ]
  },
  {
   "cell_type": "markdown",
   "metadata": {
    "application/vnd.databricks.v1+cell": {
     "cellMetadata": {},
     "inputWidgets": {},
     "nuid": "8e5d685b-fb2d-4d03-9339-657b0d204c64",
     "showTitle": false,
     "title": ""
    }
   },
   "source": [
    "### 1. Data Cleaning"
   ]
  },
  {
   "cell_type": "markdown",
   "metadata": {
    "application/vnd.databricks.v1+cell": {
     "cellMetadata": {},
     "inputWidgets": {},
     "nuid": "dce61b71-90f0-4a58-a5b7-174bfa0dc08a",
     "showTitle": false,
     "title": ""
    }
   },
   "source": [
    "1. Filtering unneccesary columns"
   ]
  },
  {
   "cell_type": "code",
   "execution_count": null,
   "metadata": {
    "application/vnd.databricks.v1+cell": {
     "cellMetadata": {
      "byteLimit": 2048000,
      "rowLimit": 10000
     },
     "inputWidgets": {},
     "nuid": "b90e92e5-95fc-49c3-bac3-b4844b86eb7e",
     "showTitle": false,
     "title": ""
    }
   },
   "outputs": [],
   "source": [
    "df_reviews_for_all_category = df_reviews_for_all_category.drop(\"marketplace\",\"vine\",\"verified_purchase\")"
   ]
  },
  {
   "cell_type": "markdown",
   "metadata": {
    "application/vnd.databricks.v1+cell": {
     "cellMetadata": {},
     "inputWidgets": {},
     "nuid": "243753ec-a194-4a27-ada6-269405bc690a",
     "showTitle": false,
     "title": ""
    }
   },
   "source": [
    "2. Identifying null values in the dataset"
   ]
  },
  {
   "cell_type": "code",
   "execution_count": null,
   "metadata": {
    "application/vnd.databricks.v1+cell": {
     "cellMetadata": {
      "byteLimit": 2048000,
      "rowLimit": 10000
     },
     "inputWidgets": {},
     "nuid": "184b0574-830c-454c-aad4-34d5fd028281",
     "showTitle": false,
     "title": ""
    }
   },
   "outputs": [
    {
     "data": {
      "text/html": [
       "<style scoped>\n",
       "  .table-result-container {\n",
       "    max-height: 300px;\n",
       "    overflow: auto;\n",
       "  }\n",
       "  table, th, td {\n",
       "    border: 1px solid black;\n",
       "    border-collapse: collapse;\n",
       "  }\n",
       "  th, td {\n",
       "    padding: 5px;\n",
       "  }\n",
       "  th {\n",
       "    text-align: left;\n",
       "  }\n",
       "</style><div class='table-result-container'><table class='table-result'><thead style='background-color: white'><tr><th>summary</th><th>customer_id</th><th>review_id</th><th>product_id</th><th>product_title</th><th>product_category</th><th>star_rating</th><th>helpful_votes</th><th>total_votes</th><th>vine</th><th>verified_purchase</th><th>review_headline</th><th>review_body</th></tr></thead><tbody><tr><td>count</td><td>735067</td><td>735067</td><td>735067</td><td>735067</td><td>735067</td><td>735067</td><td>735067</td><td>735067</td><td>735067</td><td>735067</td><td>735066</td><td>734874</td></tr><tr><td>mean</td><td>2.4617038395131327E7</td><td>null</td><td>6.951533350865672E9</td><td>5283771.0</td><td>null</td><td>4.255745394637495</td><td>0.8937539027054676</td><td>1.1540009278065808</td><td>null</td><td>null</td><td>3.133371810553613E20</td><td>1.7352937108333334E8</td></tr><tr><td>stddev</td><td>1.6295943833258342E7</td><td>null</td><td>2.6461016275601945E9</td><td>3522514.0</td><td>null</td><td>1.2598076052543696</td><td>11.856160077985736</td><td>12.994632861148018</td><td>null</td><td>null</td><td>1.7162176226621113E21</td><td>8.501167788126925E8</td></tr><tr><td>min</td><td>10016</td><td>R1000TMU4SGH73</td><td>097459363X</td><td>\"ABC Products\" - Multi Shape ~ Pill Cutter (Cuts Any Shape Pill - Has Shielded Blade for Safety)***</td><td>Gift Card</td><td>1</td><td>0</td><td>0</td><td>N</td><td>N</td><td>\u001a\u001a\u001a\u001a\u001a\u001a</td><td>\bIt's cheaper than Japan,cool!</td></tr><tr><td>max</td><td>53096566</td><td>RZZZUXPPRY4T1</td><td>BT00DDZD6G</td><td>ÒTop GunÓ Large Aviator Bifocal Sunglasses for Youthful, Active Men and Women</td><td>Watches</td><td>5</td><td>5987</td><td>6323</td><td>Y</td><td>Y</td><td>😰👇</td><td>🙌🙌🙌👍👍👍</td></tr></tbody></table></div>"
      ]
     },
     "metadata": {
      "application/vnd.databricks.v1+output": {
       "addedWidgets": {},
       "aggData": [],
       "aggError": "",
       "aggOverflow": false,
       "aggSchema": [],
       "aggSeriesLimitReached": false,
       "aggType": "",
       "arguments": {},
       "columnCustomDisplayInfos": {},
       "data": [
        [
         "count",
         "735067",
         "735067",
         "735067",
         "735067",
         "735067",
         "735067",
         "735067",
         "735067",
         "735067",
         "735067",
         "735066",
         "734874"
        ],
        [
         "mean",
         "2.4617038395131327E7",
         null,
         "6.951533350865672E9",
         "5283771.0",
         null,
         "4.255745394637495",
         "0.8937539027054676",
         "1.1540009278065808",
         null,
         null,
         "3.133371810553613E20",
         "1.7352937108333334E8"
        ],
        [
         "stddev",
         "1.6295943833258342E7",
         null,
         "2.6461016275601945E9",
         "3522514.0",
         null,
         "1.2598076052543696",
         "11.856160077985736",
         "12.994632861148018",
         null,
         null,
         "1.7162176226621113E21",
         "8.501167788126925E8"
        ],
        [
         "min",
         "10016",
         "R1000TMU4SGH73",
         "097459363X",
         "\"ABC Products\" - Multi Shape ~ Pill Cutter (Cuts Any Shape Pill - Has Shielded Blade for Safety)***",
         "Gift Card",
         "1",
         "0",
         "0",
         "N",
         "N",
         "\u001a\u001a\u001a\u001a\u001a\u001a",
         "\bIt's cheaper than Japan,cool!"
        ],
        [
         "max",
         "53096566",
         "RZZZUXPPRY4T1",
         "BT00DDZD6G",
         "ÒTop GunÓ Large Aviator Bifocal Sunglasses for Youthful, Active Men and Women",
         "Watches",
         "5",
         "5987",
         "6323",
         "Y",
         "Y",
         "😰👇",
         "🙌🙌🙌👍👍👍"
        ]
       ],
       "datasetInfos": [],
       "dbfsResultPath": null,
       "isJsonSchema": true,
       "metadata": {},
       "overflow": false,
       "plotOptions": {
        "customPlotOptions": {},
        "displayType": "table",
        "pivotAggregation": null,
        "pivotColumns": null,
        "xColumns": null,
        "yColumns": null
       },
       "removedWidgets": [],
       "schema": [
        {
         "metadata": "{}",
         "name": "summary",
         "type": "\"string\""
        },
        {
         "metadata": "{}",
         "name": "customer_id",
         "type": "\"string\""
        },
        {
         "metadata": "{}",
         "name": "review_id",
         "type": "\"string\""
        },
        {
         "metadata": "{}",
         "name": "product_id",
         "type": "\"string\""
        },
        {
         "metadata": "{}",
         "name": "product_title",
         "type": "\"string\""
        },
        {
         "metadata": "{}",
         "name": "product_category",
         "type": "\"string\""
        },
        {
         "metadata": "{}",
         "name": "star_rating",
         "type": "\"string\""
        },
        {
         "metadata": "{}",
         "name": "helpful_votes",
         "type": "\"string\""
        },
        {
         "metadata": "{}",
         "name": "total_votes",
         "type": "\"string\""
        },
        {
         "metadata": "{}",
         "name": "vine",
         "type": "\"string\""
        },
        {
         "metadata": "{}",
         "name": "verified_purchase",
         "type": "\"string\""
        },
        {
         "metadata": "{}",
         "name": "review_headline",
         "type": "\"string\""
        },
        {
         "metadata": "{}",
         "name": "review_body",
         "type": "\"string\""
        }
       ],
       "type": "table"
      }
     },
     "output_type": "display_data"
    }
   ],
   "source": [
    "display(df_reviews_for_all_category.describe())"
   ]
  },
  {
   "cell_type": "markdown",
   "metadata": {
    "application/vnd.databricks.v1+cell": {
     "cellMetadata": {},
     "inputWidgets": {},
     "nuid": "20ea5437-978c-400b-b176-3b34457cc4fd",
     "showTitle": false,
     "title": ""
    }
   },
   "source": [
    "1. drop null values from review_body\n",
    "2. drop strings with emoji's"
   ]
  },
  {
   "cell_type": "code",
   "execution_count": null,
   "metadata": {
    "application/vnd.databricks.v1+cell": {
     "cellMetadata": {
      "byteLimit": 2048000,
      "rowLimit": 10000
     },
     "inputWidgets": {},
     "nuid": "1f150d84-8fe0-4e69-8932-d96801d602a6",
     "showTitle": false,
     "title": ""
    }
   },
   "outputs": [],
   "source": [
    "df_removed_nulls = df_reviews_for_all_category.na.drop(subset=[\"review_body\",\"review_headline\"])"
   ]
  },
  {
   "cell_type": "code",
   "execution_count": null,
   "metadata": {
    "application/vnd.databricks.v1+cell": {
     "cellMetadata": {
      "byteLimit": 2048000,
      "rowLimit": 10000
     },
     "inputWidgets": {},
     "nuid": "f618d541-c437-4fe4-916e-ae5c0091c0e8",
     "showTitle": false,
     "title": ""
    }
   },
   "outputs": [],
   "source": [
    "# Regular expression to match emojis\n",
    "emoji_pattern = u\"[\\U0001F300-\\U0001F64F\\U0001F680-\\U0001F6FF\\U0001F910-\\U0001F96C\\U0001F980-\\U0001F9E0]+\"\n",
    "\n",
    "# Filter strings that doesnot contain emojis\n",
    "df_reviews_final = df_removed_nulls.filter(F.regexp_extract(\"review_body\", emoji_pattern, 0) == \"\")\n"
   ]
  },
  {
   "cell_type": "markdown",
   "metadata": {
    "application/vnd.databricks.v1+cell": {
     "cellMetadata": {},
     "inputWidgets": {},
     "nuid": "3d206165-472a-4bad-9f44-c5c4c375d2f1",
     "showTitle": false,
     "title": ""
    }
   },
   "source": [
    "#### Dataset after cleaning"
   ]
  },
  {
   "cell_type": "markdown",
   "metadata": {
    "application/vnd.databricks.v1+cell": {
     "cellMetadata": {},
     "inputWidgets": {},
     "nuid": "2ad2f1f9-43ec-4bc3-a021-2187f38725df",
     "showTitle": false,
     "title": ""
    }
   },
   "source": [
    "##### 1. Reviews by sentiment on Each category"
   ]
  },
  {
   "cell_type": "code",
   "execution_count": null,
   "metadata": {
    "application/vnd.databricks.v1+cell": {
     "cellMetadata": {
      "byteLimit": 2048000,
      "rowLimit": 10000
     },
     "inputWidgets": {},
     "nuid": "b53e7c3d-8ab1-49ef-8203-c6cfea14402d",
     "showTitle": false,
     "title": ""
    }
   },
   "outputs": [
    {
     "data": {
      "image/png": "[encoded data removed]"
     },
     "metadata": {
      "application/vnd.databricks.v1+output": {
       "addedWidgets": {},
       "arguments": {},
       "data": "data:image/png;base64,iVBORw0KGgoAAAANSUhEUgAAAmkAAAHNCAYAAABFFOy3AAAAOXRFWHRTb2Z0d2FyZQBNYXRwbG90bGliIHZlcnNpb24zLjQuMywgaHR0cHM6Ly9tYXRwbG90bGliLm9yZy/MnkTPAAAACXBIWXMAAAsTAAALEwEAmpwYAAA+iklEQVR4nO3deZzVZd3/8ddHEAEF9yxFxcrMHRVcMk2tFC2XckHvUjONO7fUzDv0/pVUplbaouaa5JKlZnlnZbkVZm6JhktiiYmCmSIoqImKfH5/fK/B4zgM2zDnOzOv5+MxD865vtt1zhxm3nNt38hMJEmSVC9LNbsCkiRJejtDmiRJUg0Z0iRJkmrIkCZJklRDhjRJkqQaMqRJkiTVkCFNqrmIOD8ivtKka4+NiMOace1FFREvRcS7m12PrigiMiLe2+x6SKoY0qQOEhGTIuKVEhL+HRGXRMRyi3vezPx8Zn6jI+rY3bQVIjNzucz8ZxPqMikiPtJJ1xodEa+Xz1rL1wudce3FVer+k2bXQ+oKDGlSx9o9M5cDhgCbASc2tzrqxq4qgbTla4VmV6juIqJ3s+sgLQxDmrQEZOa/gRuowhoAEbF1RNwRES9ExP0RsUMpHxER4xqPj4jjIuK68viSiDilYdvHI2J8Oc8dEbFJKT8kIn7dsN+jEfHzhueTI2JIVL4XEc9GxMyIeDAiNmrn5bwnIv5S9v1VRKxUzvfbiDi6Vb0fiIhPtD5BRPSNiJ9ExLRS73siYrWybfmIuDgino6IpyLilIjoVbZ9JiL+HBFnRMTzEfF4ROxatn0T2A44p7QknVPK53bZlffu3Ij4Xdnn9oh4Z0R8v5zvkYjYrKGeq0fELyJiarnWFxq2jY6IqyPisoh4MSL+FhFDy7bLgbWAX5fr/E9bb2REfC4iJkbE9Ii4LiJWb9iWEfH58n17ISJ+GBHRzvdlniLiB+X7PTMi7o2I7Rq29YqIkyLisfI67o2INRsO/8iC1KG988zr+hExHDgJGFHep/tLeXufgV4RcWZEPFe+J0eV96p32b56eS+nl/f2cw11HB0R15TP3kxgVET8JyJWbthn8/L9XnpR3mtpicpMv/zyqwO+gEnAR8rjQcCDwA/K8zWAacBuVH8cfbQ8XxXoD7wIrNtwrnuA/cvjS4BTyuPNgGeBrYBewMHlussA7wZeKOdfHXgCmFKOezfwfNm2C3AvsAIQwPrAu+bxmsYCTwEbAcsCvwB+UrbtB9zdsO+m5TX1aeM8/w38urzWXsAWwMCy7VrggnL+dwB/Af67bPsM8DrwuXLc4cC/gGio32GtrpXAexveu+fK9foCfwAeBw4q5zsF+GPZd6nyvnwV6FPes38Cu5Tto4FZ5XvYCzgNuKut7/883sudSl02L9+vs4E/tar3b8r3ZS1gKjB8Huca3fJ9mMf2TwMrA72B44F/A33LthOoPpvrle//psDKi1CH9s7T3vXfVvf5fAY+DzxM9X9qReDmUs/eZfufgHPL93dIqfNODdd6HdirfH/7AdcDhzdc+3vA2c3++eGXX219Nb0CfvnVXb7KL+mXqAJXArcAK5RtXwYub7X/DcDB5fFPgK+Wx+uWc/Qvzy/hzZB2HvCNVuf5O/Ch8nhyCQH7AxeWX3bvBw4Briv77AT8A9gaWGo+r2kscHrD8w2A16hCSl+q4Ldu2XYGcO48zvNZ4A5gk1blqwGvAv0ayg7gzeD0GWBiw7b+5b19Z0P95hfSLmrYdjQwoeH5xsAL5fFWwJOtznUi8OPyeDRwc6v34pVW3//2QtrFwLcbni9XAsTghnp/sGH71cCoeZxrdPk+vNDw9cd2rv08sGnD52XPeey3MHWY53nmc/3RNIS0BfgM/IES2Mrzj5R69gbWBN4ABjRsPw24pOFaf2pVlxHA7eVxL6oAueWCvA6//OrsL7s7pY61V2YOAHagCkerlPK1gX1LF9ILUQ3y/iDwrrL9p1S/mAD+C/i/zPxPG+dfGzi+1XnWpGo5A7i1XHv78ngs8KHydStAZv4BOAf4IfBsRFwYEQPbeU2TGx4/ASwNrJKZs4CrgE9HxFKl/pfP4xyXU4XSKyPiXxHx7dK9tHY539MNr+cCqtaUFv9uedDwnizMhIxnGh6/0sbzlnOtDaze6r09iSpEvK0uwH+AvrHg45xaWjcByMyXqFoe12jn/O29zqszc4WGrx1bNkTElyJiQkTMKK9jed78LK4JPNbOeRe0DvM8z3yu39r8PgOr89bPYOPj1YHpmfliQ9kTvPU9bdwf4FfABhGxDlWL9ozM/Ms86iY1lSFNWgIy81aqVpwzStFkqpa0xl+qy2bm6WX7TcCqETGEKuz8dB6nngx8s9V5+mfmz8r2lpC2XXl8K61CWqnfWZm5BVVr0Puouq7mpXG80lpUrT/PleeXAp8CPgz8JzPvnMf78Xpmfi0zNwA+AHycqstxMlUryioNr2dgZm7YTn3ecuoF3G9BTAYeb/XeDsjM3TqoLv+iCiQARMSyVF2CTy1addtWxn/9D1V39IpZTSiYQdUlCdXrfE8HXKrN8yzA9Vu/T/P7DDxN1dXZovHz+C9gpYgY0FC2Fm99T99yvfLHxdVUXbIHMu8/LKSmM6RJS873gY9GxKZU3Zm7R8QuZSB034jYISIGQRVigJ8D3wFWogptbbkI+HxEbBWVZSPiYw2/pG4FdqTqOpoC3AYMpwoDfwWIiGHl+KWBl6nGWc1p53V8OiI2iIj+wNeBazLzjVLvO8uxZ9LOL7uI2DEiNi6DwWdSBb05mfk0cCNwZkQMjIilIuI9EfGhdurT6BmqsWMd4S/AixHx5YjoV75PG0XEsA6qy8+AQ6KavLEMcCrVmL5Ji1fttxkAzKYam9U7Ir4KNLaU/gj4RkSsWz5DmzQOpF8I8zrP/K7/DDC4tL6yAJ+Bq4FjImKNiFiBaugA5djJVN3op5X/U5sAh1L9f2vPZVRd6XtgSFONGdKkJSQzp1L9Mvhq+WWyJ1X32VSq1oMTeOv/wZ9Sjbf5eWbOnsc5x1ENoj+HapzPRKpfNi3b/0E1Lu628nwm1eD321uCFdUvzIvK8U9Qdbl9p52XcjlVq+C/qcahfaHV9suoxna194vxncA1VAFtAlWYbPnleBDVQP2HS52u4c1u4Pn5AbBPVDM1z1rAY9pU3p+PUw0+f5yqtfBHVF11C+I04P+VLrsvtXH+m4GvUE2+eJqqFWr/xahyywzJxq93UHUr/55q3OETVCG8scvvu1TB50aq78fFVAPqF9a8zjO/67fMOJ4WEfeVx+19Bi4q13iA6g+N66lCYMvn+QBgMFWr2rXAyeW9nqfMvJ3qj4v7MvOJ9vaVmqllhpQkLZKIOAgYmZkfbHZd1P1FtQTL+Zm59nx3bv88fwB+mpk/6piaSR3PljRJi6x0gR5BNZNU6nCl63m3iOgdEWsAJ1O1mC3OOYdRzYK+qiPqKC0p8w1pEbFmRPwxIh6OavHGY0r56KgWHRxfvnZrOObEqBYV/HtE7NJQPryUTYyIUQ3l60TE3aX8qojoU8qXKc8nlu2DO/TVS1pk5f/2VKoxRvOa6CAtrgC+RtUN+leq7vKvLvLJIi6lWmvt2FazQqXamW93Z0S8i2qhy/vK4OR7qRYG3A94KTPPaLX/BlQDZLekmh59M9XsMajGKHwUmEK1WOcBmflwRFwN/DIzr4yI84H7M/O8iDiCal2lz0fE/sAnMnNEh7xySZKkGptvS1pmPp2Z95XHL1L9FbNGO4fsCVyZma9m5uNUA5u3LF8TM/OfmfkacCWwZ0QE1eKa15TjL6UKgS3nurQ8vgb4cNlfkiSpW1uom82W7sbNgLuBbYGjyqDhccDxmfk8VYC7q+GwKbwZ6ia3Kt+KammAFxpmszXuv0bLMZk5OyJmlP2fazgPETESGAmw7LLLbvH+979/YV6WJEkdZsZr/57/TupQy/d5Z7OrsMjuvffe5zJz1ba2LXBIi4jlqKaOH5uZMyPiPOAbVAsFfoNqnaTPdkB9F1pmXkgZuDx06NAcN27cfI6QJGnJ+PWk9la00ZKw++D21uOut4iY5zIwCzS7syx6+Qvgisz8JUBmPpOZb2TmHKp1bLYsuz/FW1eEHlTK5lU+DVgh3ry1Skv5W85Vti9f9pckSerWFmR2Z1AtUjghM7/bUN642OQngIfK4+uA/cvMzHWobhb9F6qJAuuWmZx9qBZxvC6rmQt/BPYpxx9MdW+1lnMdXB7vA/whXdhNkiT1AAvS3bkt1f3NHoyI8aXsJOCAqO4zmMAk4L8BMvNvZbbmw1SrQh/ZstJ5RBxFtRp1L2BMZv6tnO/LVDdePoVqivXFpfxi4PKImAhMZ/FW55YkSeoy5hvSMvPPvHlj3EbXt3PMN4FvtlF+fVvHZeY/ebO7tLF8FrDv/Oo4P6+//jpTpkxh1qxZi3uqHqlv374MGjSIpZdeutlVkSSpx1io2Z1d1ZQpUxgwYACDBw/GFTwWTmYybdo0pkyZwjrrrNPs6kiS1GP0iNtCzZo1i5VXXtmAtggigpVXXtlWSEmSOlmPCGmAAW0x+N5JktT5ekxIkyRJ6kp6xJi01n721ykder4DNhs0330igi9+8YuceeaZAJxxxhm89NJLjB49ukPrcuqpp3LSSSfNff6BD3yAO+64o0OvIUmSljxb0jrJMssswy9/+Uuee+65+e+8GE499dS3PDegSZLUNRnSOknv3r0ZOXIk3/ve9962berUqey9994MGzaMYcOGcfvtt88t/+hHP8qGG27IYYcdxtprrz035O21115sscUWbLjhhlx44YUAjBo1ildeeYUhQ4bwqU99CoDlllsOgP3335/f/va3c6/5mc98hmuuuYY33niDE044gWHDhrHJJptwwQUXLNH3QZIkLRhDWic68sgjueKKK5gxY8Zbyo855hiOO+447rnnHn7xi19w2GGHAfC1r32NnXbaib/97W/ss88+PPnkk3OPGTNmDPfeey/jxo3jrLPOYtq0aZx++un069eP8ePHc8UVV7zlGiNGjODqq68G4LXXXuOWW27hYx/7GBdffDHLL78899xzD/fccw8XXXQRjz/++BJ+JyRJ0vz0yDFpzTJw4EAOOuggzjrrLPr16ze3/Oabb+bhhx+e+3zmzJm89NJL/PnPf+baa68FYPjw4ay44opz9znrrLPmbps8eTKPPvooK6+88jyvveuuu3LMMcfw6quv8vvf/57tt9+efv36ceONN/LAAw9wzTXXADBjxgweffRR10STJKnJDGmd7Nhjj2XzzTfnkEMOmVs2Z84c7rrrLvr27btA5xg7diw333wzd955J/3792eHHXaY7zpmffv2ZYcdduCGG27gqquuYv/9qztsZSZnn302u+yyy6K/KEmS1OHs7uxkK620Evvttx8XX3zx3LKdd96Zs88+e+7z8ePHA7DtttvO7aK88cYbef7554GqtWvFFVekf//+PPLII9x1111zj1166aV5/fXX27z2iBEj+PGPf8xtt93G8OHDAdhll10477zz5h7zj3/8g5dffrnjXrAkSVokPbIlbUGWzFiSjj/+eM4555y5z8866yyOPPJINtlkE2bPns3222/P+eefz8knn8wBBxzA5ZdfzjbbbMM73/lOBgwYwPDhwzn//PNZf/31WW+99dh6663nnmvkyJFssskmbL755m8bl7bzzjtz4IEHsueee9KnTx8ADjvsMCZNmsTmm29OZrLqqqvyf//3f53yPkiSpHmLzGx2HTrU0KFDc9y4cW8pmzBhAuuvv36TarToXn31VXr16kXv3r258847Ofzww+e2snW2rvoeSlJn+/Wk7zS7Cj3O7oNPaHYVFllE3JuZQ9va1iNb0rqKJ598kv322485c+bQp08fLrroomZXSZIkdRJDWo2tu+66/PWvf212NSRJUhM4cUCSJKmGDGmSJEk1ZEiTJEmqIUOaJElSDfXIiQODT/zt/HdaCJNO+9h894kIvvjFL3LmmWcCcMYZZ/DSSy8xevTohb7eCy+8wE9/+lOOOOKIhT528ODBjBs3jlVWWWWhj5UkSZ3HlrROsswyy/DLX/6S5557brHP9cILL3Duuee2uW327NmLfX5JktR8hrRO0rt3b0aOHMn3vve9t22bOnUqe++9N8OGDWPYsGHcfvvtAIwePZozzjhj7n4bbbQRkyZNYtSoUTz22GMMGTKEE044gbFjx7Lddtuxxx57sMEGGwCw1157scUWW7Dhhhty4YUXds6LlCRJHaZHdnc2S8utn/7nf/7nLeXHHHMMxx13HB/84Ad58skn2WWXXZgwYcI8z3P66afz0EMPzb37wNixY7nvvvt46KGHWGeddQAYM2YMK620Eq+88grDhg1j7733ZuWVV15ir02SJHUsQ1onGjhwIAcddBBnnXUW/fr1m1t+88038/DDD899PnPmTF566aWFOveWW245N6BBdT/Qa6+9FoDJkyfz6KOPGtIkSepCDGmd7Nhjj2XzzTfnkEMOmVs2Z84c7rrrLvr27fuWfXv37s2cOXPmPp81a9Y8z7vsssvOfTx27Fhuvvlm7rzzTvr3788OO+zQ7rGSJKl+HJPWyVZaaSX2228/Lr744rllO++8M2efffbc5y3dmIMHD+a+++4D4L777uPxxx8HYMCAAbz44ovzvMaMGTNYccUV6d+/P4888gh33XXXEnglkiRpSeqRLWkLsmTGknT88cdzzjnnzH1+1llnzR2vNnv2bLbffnvOP/989t57by677DI23HBDttpqK973vvcBsPLKK7Ptttuy0UYbseuuu/Kxj7319QwfPpzzzz+f9ddfn/XWW4+tt966U1+fJElafJGZza5Dhxo6dGiOGzfuLWUTJkxg/fXXb1KNugffQ0laML+e9J1mV6HH2X3wCc2uwiKLiHszc2hb2+zulCRJqiFDmiRJUg0Z0iRJkmrIkCZJklRDhjRJkqQaMqRJkiTVUI9cJ62jp0cvyNTfXr16sfHGGzN79mzWX399Lr30Uvr377/A1/jXv/7FF77wBa655hrGjx/Pv/71L3bbbTcArrvuOh5++GFGjRq1yK9BkiTViy1pnaRfv36MHz+ehx56iD59+nD++ecv1PGrr74611xzDVDdkeD666+fu22PPfYwoEmS1M0Y0ppgu+22Y+LEiUyfPp299tqLTTbZhK233poHHngAgFtvvZUhQ4YwZMgQNttsM1588UUmTZrERhttxGuvvcZXv/pVrrrqKoYMGcJVV13FJZdcwlFHHcWMGTNYe+21597v8+WXX2bNNdfk9ddf57HHHmP48OFsscUWbLfddjzyyCPNfAskSdJ8GNI62ezZs/nd737HxhtvzMknn8xmm23GAw88wKmnnspBBx0EwBlnnMEPf/hDxo8fz2233Ua/fv3mHt+nTx++/vWvM2LECMaPH8+IESPmblt++eUZMmQIt956KwC/+c1v2GWXXVh66aUZOXIkZ599Nvfeey9nnHEGRxxxROe+cEmStFB65Ji0ZnjllVcYMmQIULWkHXrooWy11Vb84he/AGCnnXZi2rRpzJw5k2233ZYvfvGLfOpTn+KTn/wkgwYNWuDrjBgxgquuuoodd9yRK6+8kiOOOIKXXnqJO+64g3333Xfufq+++mqHvj5JktSxDGmdpGVM2oIYNWoUH/vYx7j++uvZdtttueGGG+jbt+8CHbvHHntw0kknMX36dO6991522mknXn75ZVZYYYUFvr4kSWo+uzubaLvttuOKK64AYOzYsayyyioMHDiQxx57jI033pgvf/nLDBs27G3jxwYMGMCLL77Y5jmXW245hg0bxjHHHMPHP/5xevXqxcCBA1lnnXX4+c9/DkBmcv/99y/ZFydJkhZLj2xJW5AlMzrD6NGj+exnP8smm2xC//79ufTSSwH4/ve/zx//+EeWWmopNtxwQ3bddVeefvrpucftuOOOnH766QwZMoQTTzzxbecdMWIE++67L2PHjp1bdsUVV3D44Ydzyimn8Prrr7P//vuz6aabLvHXKEmSFk1kZrPr0KGGDh2a48aNe0vZhAkTWH/99ZtUo+7B91CSFkxHr8Wp+atL48uiiIh7M3NoW9vs7pQkSaohQ5okSVIN9ZiQ1t26dTuT750kSZ2vR4S0vn37Mm3aNMPGIshMpk2btsBLgEiSpI7RI2Z3Dho0iClTpjB16tRmV6VL6tu370ItqCtJkhZfjwhpSy+9NOuss06zqyFJkrTAekR3pyRJUldjSJMkSaohQ5okSVINGdIkSZJqyJAmSZJUQ4Y0SZKkGjKkSZIk1dB8Q1pErBkRf4yIhyPibxFxTClfKSJuiohHy78rlvKIiLMiYmJEPBARmzec6+Cy/6MRcXBD+RYR8WA55qyIiPauIUmS1N0tSEvabOD4zNwA2Bo4MiI2AEYBt2TmusAt5TnArsC65WskcB5UgQs4GdgK2BI4uSF0nQd8ruG44aV8XteQJEnq1uYb0jLz6cy8rzx+EZgArAHsCVxadrsU2Ks83hO4LCt3AStExLuAXYCbMnN6Zj4P3AQML9sGZuZdWd1c87JW52rrGpIkSd3aQo1Ji4jBwGbA3cBqmfl02fRvYLXyeA1gcsNhU0pZe+VT2iinnWu0rtfIiBgXEeO8P6ckSeoOFjikRcRywC+AYzNzZuO20gKWHVy3t2jvGpl5YWYOzcyhq6666pKshiRJUqdYoJAWEUtTBbQrMvOXpfiZ0lVJ+ffZUv4UsGbD4YNKWXvlg9oob+8akiRJ3dqCzO4M4GJgQmZ+t2HTdUDLDM2DgV81lB9UZnluDcwoXZY3ADtHxIplwsDOwA1l28yI2Lpc66BW52rrGpIkSd1a7wXYZ1vgQODBiBhfyk4CTgeujohDgSeA/cq264HdgInAf4BDADJzekR8A7in7Pf1zJxeHh8BXAL0A35XvmjnGpIkSd3afENaZv4ZiHls/nAb+ydw5DzONQYY00b5OGCjNsqntXUNSZKk7s47DkiSJNWQIU2SJKmGDGmSJEk1ZEiTJEmqIUOaJElSDRnSJEmSasiQJkmSVEOGNEmSpBoypEmSJNWQIU2SJKmGDGmSJEk1ZEiTJEmqIUOaJElSDRnSJEmSasiQJkmSVEOGNEmSpBoypEmSJNWQIU2SJKmGDGmSJEk1ZEiTJEmqIUOaJElSDRnSJEmSasiQJkmSVEOGNEmSpBoypEmSJNWQIU2SJKmGDGmSJEk1ZEiTJEmqIUOaJElSDRnSJEmSasiQJkmSVEOGNEmSpBoypEmSJNWQIU2SJKmGDGmSJEk1ZEiTJEmqIUOaJElSDRnSJEmSasiQJkmSVEOGNEmSpBoypEmSJNWQIU2SJKmGDGmSJEk1ZEiTJEmqIUOaJElSDRnSJEmSasiQJkmSVEOGNEmSpBoypEmSJNWQIU2SJKmGDGmSJEk1ZEiTJEmqIUOaJElSDRnSJEmSasiQJkmSVEOGNEmSpBoypEmSJNXQfENaRIyJiGcj4qGGstER8VREjC9fuzVsOzEiJkbE3yNil4by4aVsYkSMaihfJyLuLuVXRUSfUr5MeT6xbB/cYa9akiSp5hakJe0SYHgb5d/LzCHl63qAiNgA2B/YsBxzbkT0iohewA+BXYENgAPKvgDfKud6L/A8cGgpPxR4vpR/r+wnSZLUI8w3pGXmn4DpC3i+PYErM/PVzHwcmAhsWb4mZuY/M/M14Epgz4gIYCfgmnL8pcBeDee6tDy+Bvhw2V+SJKnbW5wxaUdFxAOlO3TFUrYGMLlhnymlbF7lKwMvZObsVuVvOVfZPqPs/zYRMTIixkXEuKlTpy7GS5IkSaqH3ot43HnAN4As/54JfLajKrWwMvNC4EKAoUOHZrPqIal9v570nWZXocfZffAJza6CpEW0SC1pmflMZr6RmXOAi6i6MwGeAtZs2HVQKZtX+TRghYjo3ar8Lecq25cv+0uSJHV7ixTSIuJdDU8/AbTM/LwO2L/MzFwHWBf4C3APsG6ZydmHanLBdZmZwB+BfcrxBwO/ajjXweXxPsAfyv6SJEnd3ny7OyPiZ8AOwCoRMQU4GdghIoZQdXdOAv4bIDP/FhFXAw8Ds4EjM/ONcp6jgBuAXsCYzPxbucSXgSsj4hTgr8DFpfxi4PKImEg1cWH/xX2xkiRJXcV8Q1pmHtBG8cVtlLXs/03gm22UXw9c30b5P3mzu7SxfBaw7/zqJ0mS1B15xwFJkqQaMqRJkiTVkCFNkiSphgxpkiRJNWRIkyRJqiFDmiRJUg0Z0iRJkmrIkCZJklRDhjRJkqQaMqRJkiTVkCFNkiSphgxpkiRJNWRIkyRJqiFDmiRJUg0Z0iRJkmrIkCZJklRDhjRJkqQaMqRJkiTVkCFNkiSphgxpkiRJNWRIkyRJqiFDmiRJUg0Z0iRJkmrIkCZJklRDhjRJkqQaMqRJkiTVkCFNkiSphgxpkiRJNWRIkyRJqiFDmiRJUg0Z0iRJkmrIkCZJklRDhjRJkqQaMqRJkiTVkCFNkiSphgxpkiRJNWRIkyRJqiFDmiRJUg0Z0iRJkmrIkCZJklRDhjRJkqQaMqRJkiTVkCFNkiSphgxpkiRJNWRIkyRJqiFDmiRJUg31bnYFJEnqTo6+YINmV6HH2f20ZtdgybAlTZIkqYYMaZIkSTVkSJMkSaohQ5okSVINGdIkSZJqyJAmSZJUQ4Y0SZKkGjKkSZIk1ZAhTZIkqYbmG9IiYkxEPBsRDzWUrRQRN0XEo+XfFUt5RMRZETExIh6IiM0bjjm47P9oRBzcUL5FRDxYjjkrIqK9a0iSJPUEC9KSdgkwvFXZKOCWzFwXuKU8B9gVWLd8jQTOgypwAScDWwFbAic3hK7zgM81HDd8PteQJEnq9uYb0jLzT8D0VsV7ApeWx5cCezWUX5aVu4AVIuJdwC7ATZk5PTOfB24ChpdtAzPzrsxM4LJW52rrGpIkSd3eoo5JWy0zny6P/w2sVh6vAUxu2G9KKWuvfEob5e1d420iYmREjIuIcVOnTl2ElyNJklQviz1xoLSAZQfUZZGvkZkXZubQzBy66qqrLsmqSJIkdYpFDWnPlK5Kyr/PlvKngDUb9htUytorH9RGeXvXkCRJ6vYWNaRdB7TM0DwY+FVD+UFllufWwIzSZXkDsHNErFgmDOwM3FC2zYyIrcuszoNanauta0iSJHV7vee3Q0T8DNgBWCUiplDN0jwduDoiDgWeAPYru18P7AZMBP4DHAKQmdMj4hvAPWW/r2dmy2SEI6hmkPYDfle+aOcakiRJ3d58Q1pmHjCPTR9uY98EjpzHecYAY9ooHwds1Eb5tLauIUmS1BN4xwFJkqQaMqRJkiTVkCFNkiSphgxpkiRJNWRIkyRJqiFDmiRJUg0Z0iRJkmrIkCZJklRDhjRJkqQaMqRJkiTVkCFNkiSphgxpkiRJNTTfG6yrc/x60neaXYUeZ/fBJzS7CpIkzZMtaZIkSTVkSJMkSaohQ5okSVINGdIkSZJqyJAmSZJUQ4Y0SZKkGjKkSZIk1ZAhTZIkqYYMaZIkSTVkSJMkSaohQ5okSVINGdIkSZJqyJAmSZJUQ4Y0SZKkGjKkSZIk1ZAhTZIkqYYMaZIkSTVkSJMkSaohQ5okSVIN9W52BSRJ6k5O22/TZldB3YQtaZIkSTVkSJMkSaohQ5okSVINGdIkSZJqyJAmSZJUQ4Y0SZKkGjKkSZIk1ZAhTZIkqYYMaZIkSTVkSJMkSaohQ5okSVINGdIkSZJqyJAmSZJUQ4Y0SZKkGjKkSZIk1ZAhTZIkqYYMaZIkSTVkSJMkSaohQ5okSVINGdIkSZJqyJAmSZJUQ4Y0SZKkGjKkSZIk1dBihbSImBQRD0bE+IgYV8pWioibIuLR8u+KpTwi4qyImBgRD0TE5g3nObjs/2hEHNxQvkU5/8RybCxOfSVJkrqKjmhJ2zEzh2Tm0PJ8FHBLZq4L3FKeA+wKrFu+RgLnQRXqgJOBrYAtgZNbgl3Z53MNxw3vgPpKkiTV3pLo7twTuLQ8vhTYq6H8sqzcBawQEe8CdgFuyszpmfk8cBMwvGwbmJl3ZWYClzWcS5IkqVtb3JCWwI0RcW9EjCxlq2Xm0+Xxv4HVyuM1gMkNx04pZe2VT2mj/G0iYmREjIuIcVOnTl2c1yNJklQLvRfz+A9m5lMR8Q7gpoh4pHFjZmZE5GJeY74y80LgQoChQ4cu8etJkiQtaYvVkpaZT5V/nwWupRpT9kzpqqT8+2zZ/SlgzYbDB5Wy9soHtVEuSZLU7S1ySIuIZSNiQMtjYGfgIeA6oGWG5sHAr8rj64CDyizPrYEZpVv0BmDniFixTBjYGbihbJsZEVuXWZ0HNZxLkiSpW1uc7s7VgGvLqhi9gZ9m5u8j4h7g6og4FHgC2K/sfz2wGzAR+A9wCEBmTo+IbwD3lP2+npnTy+MjgEuAfsDvypckSVK3t8ghLTP/CWzaRvk04MNtlCdw5DzONQYY00b5OGCjRa2jJElSV+UdByRJkmrIkCZJklRDhjRJkqQaMqRJkiTVkCFNkiSphgxpkiRJNWRIkyRJqiFDmiRJUg0Z0iRJkmrIkCZJklRDhjRJkqQaMqRJkiTVkCFNkiSphgxpkiRJNWRIkyRJqiFDmiRJUg0Z0iRJkmrIkCZJklRDhjRJkqQaMqRJkiTVkCFNkiSphgxpkiRJNWRIkyRJqiFDmiRJUg0Z0iRJkmrIkCZJklRDhjRJkqQaMqRJkiTVkCFNkiSphno3uwKqHH3BBs2uQo+z+2nNroEkSfNmS5okSVINGdIkSZJqyJAmSZJUQ4Y0SZKkGjKkSZIk1ZAhTZIkqYYMaZIkSTVkSJMkSaohF7OtidP227TZVZAkSTViS5okSVINGdIkSZJqyJAmSZJUQ4Y0SZKkGjKkSZIk1ZAhTZIkqYYMaZIkSTVkSJMkSaohF7OV1GmOvmCDZlehx9n9tGbXQNKisiVNkiSphgxpkiRJNWRIkyRJqiHHpEnqNKftt2mzqyBJXYYtaZIkSTVkSJMkSaohQ5okSVINGdIkSZJqqPYhLSKGR8TfI2JiRIxqdn0kSZI6Q61DWkT0An4I7ApsABwQES5ZLkmSur1ahzRgS2BiZv4zM18DrgT2bHKdJEmSlri6r5O2BjC54fkUYKvWO0XESGBkefpSRPy9E+qmN60CPNfsSiys/2p2BdTV+DlXT+DnvPOtPa8NdQ9pCyQzLwQubHY9eqqIGJeZQ5tdD2lJ8nOunsDPeb3UvbvzKWDNhueDSpkkSVK3VveQdg+wbkSsExF9gP2B65pcJ0mSpCWu1t2dmTk7Io4CbgB6AWMy829Nrpbezq5m9QR+ztUT+DmvkcjMZtdBkiRJrdS9u1OSJKlHMqRJkiTVkCFNkpaQiNgkImo99ldSfRnSJGkJiIgNgeOBQ5tdF2lJiYhodh26M0OahD9o1HFaPktlJvrNwGYRsXlzayV1vIjolWX2YUQsV/71Z2kHMqSpx2v8QSMtroZfWtsAOwPvAQ6IiAFNrZjUwTLzDYCIOAn4fxHR15+lHcuQph4vM9+IiGUj4oyIeE+z66OuKSKWani8BfBj4Argj8A7sdtT3UxELB8R1wHrAedk5qxm16m7MaSpx4uI7YCxQACTm1sbdTUN3ZtzImLdiNgdGAL8NTN/D5wB/BLYIiI+0LyaSosnInq1KhoM9M/Mg4EBEbFrROxZ9jVfdADfRPUoUWn9ud8GuDAzjweWjYihETGwCdVTF9TQvbk7cDKwDHArsHJEbJqZrwH3ARsCR0XEak2rrLQYSq/DihFxWESsBfwDmBkRDwNHAfsAV0bEFpk5p6mV7SacGq4eIyKi/ELNiHg31e/Xx8vmnSNif2ASsBXws4j4QWa+1KTqqsYiYqnGX0IRsTbwK+CMzLwmIgZRdXMeGxGHAv2AJ4DfZOYzTam0tJgiYg/g61QTYoYCE4ERwODMfLTs8yrV510dwJCmHqOhxeN44BDgzoiYQ/VD5w5gRmY+WFpEPmJAU1vKRJOWAdPvBF7MzCci4mTgc8D/ZOaUiPgp8DXgemBd4IuZ+aumVVxaCG38IdKH6g/YjwKDqMZbPpiZrwOPRsS2wElAUrUcqwN47051a238oNkFGJGZn42IzwKnA9s2/BX4YeAbVC0epzal0qqlxs9S6TIfAywPvAocmZnTIuJu4M7MPLbhuMHA9Myc2fm1lhZeRCyTma+Wx8tm5stlPNpvgJepJsJ8KzN/HRHvAF4HjqT6g+UHTat4N2RIU7fVqsVjWGbeExE7A5sCG1P9oDmyIaB9CPgScF5mXt+seqt+yhIDU4DbgKeBa4HbM/OUiHgcuB0YCQwA/gYckJk3Nau+0qKIiP7AF4CZmXluRHwd2IDqj9ZLIuJY4GBg58ycWgLaV4Fzgb+3/LxVx3HigLqtMsi1X0SMAb4TEctSfeYPBx7JzJ0z89GI2Dsijs7MW4FPZOb185hgoB4mIjaKiNuA9wMPA73LMgMnAmMi4rdUXeWrUHVnPkM1eeDYJlVZWhxvAM8CG5efm6sBPwG+FBEfB/4C/Am4qPRE/J4q0D1sQFsybElTtxYR3y0Pj28Yk3YZMINqBt5aVOPTvpGZV5ftb+kiVc8UEX2By4E/ZOZ5bWw/HnhXZn4pIg4Efgjsk5k3dnJVpcXSqtfhHcBngE8Be2bmpDL5ZUfgO1STBQ4B3gXckJl/ak6tewZbCtQttNXyVW5TMgy4ODOz5bYlVFPFHwY+RNXtuVtLQINqvatOqrbqbXmqtfOujoilWj5fDWtFzQLeXbqI1gN+S7UkgdSllF6HlSLix0B/qs/y34EDy/aLgWlUE2P6Z+Y5mfm/BrQlz5CmLq+0fGVZTHTTiDgqItYrszPvppoiTsNszdVKy8gxmXlIZk5uY5FGqRfVorT9SnBPmPsLrRcwgWrJlvuBlYBPZeakptRUWkiN99gsiyz/AZgKPEn12f4psEbp5oSqFW1lqhCnTmJ3p7qNiPg0cDzVwO1NgIOoJgd8EngM+D5wPtXg7k8Bs8svXLs39bbZmyX0nwH0yszjSnmfzHwtIt4PvCMz/xQRG2fmg82su7SgImIlqj88nmooOxKYVVrMWspWAfYDNqeayfloRCxdltxQJ7ElTV1SvPU+ib0j4mCqwdr7ZuanqQa0fhp4HPgR1do+vwJeyMx9MvPVljEYBrSeLSJWLeFrTkOLastfr78BVo2IowBKQHs3cDbVoGoMaOpiNqFaZHnviLgtIlYAtgY2g7ljMcnM56hulzcNWKGUGdA6mS1p6nIaB7k2lO0MnEY1/uzciBhAFc7uoPqFCrB8Zj4/r3Oo5ykrqL+XapmBbwEnUC1G+0LZ3hf4AFUL7B+BmcAngO9m5rnNqLO0sFq6NhsmT/0VWB04MTPHRMSmwLeBr2fm7RGxKtUM5q8Ab6Q3Tm8a7zigLqV0Q71RBmv/EHgEeDwzry635tk8qvsl3h8R5wGnALdk5kPA843naNqLUFOVX1gDqG56flNmfisiXgB2o2qJfaFl3/LL6Q8RsTewNlWY+1hm/r3TKy4tooZw1rJI7QVUkwL+Uf4//IPq/8NPI+ICqntw3pSZLzerzqrYkqYuISIOAy7PzFfLX32XUa3fMx44D/gsMA4YBfQBvpaZr0TEBpn5cJOqrRqLiKup7kH4PqoB0XsDa2Tmiy1jz5paQWkxlD9kDwZ+m5lPRsTnqSbC/Cwzb42IT1LN1jwuMx8px2wNvAd4IjP/3KSqq4Fj0lRrEdGr/LB5tuU2JVSz7j4LXAn8P+Ah4MJSfi1Vi8dHAFoCWuNMJvVMZeziqDKTDWA2VRfny5l5CPA9qjsKtIw9i3KcPyfVFQ0G9gDWiYgfALsCtwBfj4gjMvOXVC1oh0bEp6K61+z4zLzCgFYf/vBRbUXEcOCqzPwP8JuIODMi9s3M+6iWPvgRMCYz96Lqyrw4M/9K1Yr268ZzpU3GPVoZgzibKtjfXcbc3A38HzAQIDNPBuZExNci4n1UN0d3Yom6jPKHyN6lJfhhqrXOzgN+lZl7Us3UXAUYFhEfBf4X+A/VTPgbHXtWP4Y01dl9wDsjYmT5RflP4ICIWL1sfxa4LiIGAvcCAyJihYame1vPeriI6BMRpwGHRcS7yjpmXwLOzepG0CdSrQV1ZDlkL6qV1S8HHmhClaXFMQq4GDipPP9fqrur9ImIo6n+INm0bDsKWKf8cbJ7Zl7SyXXVAjCkqVYau5Yy81mq2UVHR8R7qQa7Pk71S3Y61eDv06juHvBwZu7aatC3rWc9WGkp+BPV4puPUi04C3A98EpEfD4z/w1cAewcEUMz80mqtaF2zMxrmlFvaWFFxGrl4Y+o/rjdKyL+i2rox5VUd17ZC7i+tCi/CDwH9IOqe7+z66wF48QB1UarxUTXoFrT7OWI+CrwgcwcXhYRPQW4lGottO0BMvOW1udQz1W6Ky8FRmfmDW1s342qJeHEMhP4VGCtssae1CWUP2r/l2riy/mZ+UhU95HdgOoPWYB3U02wCuDLVH/ULg18JjP/1emV1kIxpKlWImIZqlmbq1D9UPk88G9gDHBfZp4SEfsDRwP7taya3XodIPVsJYTtmplHR0TvzJxdZgWfBpyZmbdExAnAUKpFj5cHepeWNanLiIj3UC2n8WGqrvpdqBZa/hPVzOVTqG6GvhNVq/KGmXlZc2qrhWV3p2ojItYFzgT+mZk7Ui2pcTjVlPCvAntHxPaZeSVweONtTbJoRr1VS8sBGwOUgLYF1b0HpwAXlHGMlwOvU7XSPmdAU1eUmY9l5miqMbrnU/1xuxvwUmZeTzVMZFVgVGbea0DrWgxpapo2ljbYieovwanl+VeoFlz+UFmM9mfAvgCZ+UA5h5MD1Ja/AE9GxCfK878Bn87MkVQtDPuUUHZ4Zt7arEpKHWg/YA5VV+daVHfPIDMvoFp+47PNq5oWlSFNna4lnJV7JW4eEYdFxOblh8nPqe6V+L7MfIXq3okfLWPNvp2ZRzeey9YzzcNk4H7gI1HdAH1WZj5bFutcg2oiAZn5YjMrKXWUcheVrwNPU60ZuUcZw0tm3uRdVromQ5o6XcPkgN2oWsfeD1xVBrz+jGrcxEnlNk8HUC2FMLfFrOEm2FKbyi+kHwP/Ai6PiKMi4kyqrp/zM/O2plZQWgIyc0pmXk51y7y/Ua0nqS7MiQPqFBExMDNnRsTSVCu9fxvYiOpG1TdFxDZUt3r6MNVspG9SdXtOyMwTm1VvdX0RcTCwLNXn6luZOXU+h0hSLXiDdS0xZbxYL+BsqkVpD87MmWXbHVRj0FaKiH6ZeWdE/Bb4ZmYeGBG/ploH7YKyf++yvo+0UDLz0mbXQZIWhd2dWmLKhMvZVGOA9gC+ExGfKtuupbq59Q7AoHLI3VS3MQG4jmpG0u7lFicGNElSj2J3p5aYcr/ENyJiD2AL4ClgW6obWh9R1kS7kqrF7Daq2UdfyMxfleO3BB4sEwgkSepR7O7UEtMwm6gf8N5yj7gLI+KViOhLdePfY6hmdM4CtsnMf7XcNSAz/9KcmkuS1Hx2d2qJy8yrgLUi4sCIuIDqtiR/Bf4PWI/q3ombAbO9rZMkSRVDmpaohgVrf0vVcvZCZm6RmWcDI4HHM/Msqta29Q1okiRVHJOmxbKgLV8R8TngI5k5ojx/y2zNiOibmbOWYFUlSepSDGlaZC0TA8rjdYFJmfl6q30iMzMiVqJa5X2nzLy/CdWVJKlLceKAFlmZudkPOBd4B/DviLg1My9rCWcloAXwMnAkMKGZdZYkqauwJU0LpXX3ZkScTnVngB9QrW32BrBX6/vEtXFceN9NSZLmzYkDWmAlWLXcd/OrEXEA1WfoAaoboT8J7NEY0CJiqcaAFhF7R8SyBjRJktpnSNMCK12XgyLiK8BamfkzYEXgemB0Zn6+7PP5iNi8HDMnM+dExNByK6jIzJeb+DIkSeoSHJOmdrUxe/O/gd2pujcB/h/wEWBwREwHvgysQ9Wy1nKO/wfsCIzIzMmdUnFJkro4W9LUppb1zUor2DsiYquy6TvAOGCViHhHZj4DfA4YDnwXeC4zd8rMKRHRKyKOBGYDHzWgSZK04Jw4oLeIiKWpejZnl+eHAF+gCmbTgbOpboh+FPBT4KaWZTciYvnMnFEe987M2RHRPzP/04SXIklSl2ZLmuYqN0K/BDigPP8I8GFge+AO4BPA/wL3AreX55u2HN8Q0JZqCXkGNEmSFo0hTQBExHnAicBFVIvOAjxI1WL2WeAI4BvAcsDBZb9ZwCutz+WtnSRJWnxOHBARsSWwamZu01iemc9ExHJUrWU7ZeaLETGCKrTdBRzbej00SZLUMQxpgmo25tLw5mzOhsVmZwG7AmMjYgaQwImZ+VDzqitJUvdnSBPAMsA/W5UFZQJBRHwSOB5YHTgmM+8B7xogSdKS5OxOERGDgbuBT2TmHa3uEPAVqjXRXsvMWaWs9dppkiSpgzlxoIeIiL4RsVZ5vFRDea/MnAScBlwUEe+jakVruS/nNkB/A5okSZ3LlrQeICL6Uc3SfDdwXGbOaqurMiK+VfbpT3W7p8eAz3sbJ0mSOp8hrYeIiB2BPYAJmXlhq21zJwsAKwDrAX0zc2zZ3stZnJIkdS5DWjdVAlc0jC1bBvgk1eK0l2Tmnxdk4L/dm5IkNYdj0rqhlvBVWsfWi4iNqJbO+DUwEdg3IlbOzCxhruW4Xm2cx4AmSVITGNK6oZbWsYj4MnAV8Gngh1RLbfyi7HZwy74RsVRpMXujHLdzRAxweQ1JkprHkNZNtMzYjDftDqwLbAFMBXYETs3MR4HfA0MjYk+obuNUWt3WjojfARsALzXlhUiSJMDFbLuFVuPGlsrMNyLiTmAs1f02twE+B4yKiE9n5k8iYhBv3qOTiDgUOBQ4IjPHd+oLkCRJb+PEgS6uZfxZRPQBLgZeA67LzF9FxLLAOcBRmflyRFxPdQuoj2TmUy3HAwcCw4AvZearzXklkiSpkSGtG4iIDwDbUa1t9iSwOfBn4FpgHDAS2Ax4PzAmM+8qx7UEvIGZObMplZckSW0ypHUxrZfWKGUTgFmZuVlELE21HtrewBeBD1LdIP29wIGZ+WTLeZwYIElSfRnSupDGYFXGlC2bmX+PiPcCDwLbZOb4cvun/akmAHweeL1h5qbrnkmS1AU4caALaQho/0u1MO2MiLgd+C5wLPBzYN3MfDIibgP6AAMz89lynHcOkCSpi7AlreZat3xFxPrAmcDuwIbAx4F3ZebRZWLAtMw80EAmSVLX5jppNVaCVsttnTYqMzjfAayVmW9k5gNUa54NjIi1qRao3ToiVqG6w0DLGDZJktTFGNJqqCVYlfXOlomInwDfBlYD7gfujohPl33uA95J1Zo2FXh/Zj7XEu6cHCBJUtfkmLSaaWNg/yXAlMz8dNm+HHATcEgJc32B/sA0mBvsnBwgSVIX55i0Gmk1e/MM4C9Ui88uDTxLtYzGUsCtwIvAPsCqwKjMfLwplZYkSUuEIa1mIuIdwOjy9IvAh6juCPAQMJ2qa3N2Zp4aEUtn5uvlOFvPJEnqRuzubLLGWZil+3InYBfg25k5KyJuAW5qmEBwGfA4gAFNkqTuy4kDTRIRS8HcMWTvioi9qNY4u5JqHNpWEbFaZs4G+kXEThFxH9USGyc3nsuAJklS92NI62Tltk00tIztTTUR4D3ALRHxceB64DngoLLvy8DLwBGZeVw5rlfn116SJHUWQ1onioiPAb+LiNMjYvdSvD0wAriaaoLA8pl5L9XkgI0iYgRAZt7dcGP0pVyoVpKk7s0xaZ0kIsYAg4DvA1sA+0bEMsBM4ESqmZv/lZl/iIhlqVrX1gYmtz6X3ZuSJHV/tqR1no8Cl2Xmb4AfU90R4DVgdWANYNsS0NYGrqRauPa8zLyjWRWWJEnNY0jrPJtT3XOTzHwSWAl4HvgmVYvmN8uN038D3JGZk71bgCRJPZfrpHWiiPgv4BjgSWA2cHhmvhARQ6kmDmwBXFXGpL1lcVtJktSzGNI6WURcCyyVmXu2s89SVLfd9JsjSVIPZUjrZBHRH5gIbJOZTzQuZlu223omSZIck9bZMvM/wAHAn8rzN1ptN6BJkiRb0polIj7gzE1JkjQvhjRJkqQasrtTkiSphgxpkiRJNWRIkyRJqiFDmiRJUg0Z0iRJkmrIkCapW4iIz0TEOYtx7OodWJfB5TZwkrTIDGmSai0ienXCZT4DdFhIAwYDSzykddJ7I6lJDGmSmqa0OD0SEVdExISIuCYi+kfEpIj4VkTcB+wbEQdExIMR8VBEfKvh+EMi4h8R8Rdg24bySyJin4bnLzU8/nI51/0RcXrZbyhwRUSMj4h+86jrsIi4oxz3l4gYUOp/W0TcV74+UHY/HdiunO+4iOgVEd+JiHsi4oGI+O9yzqUi4tzyHtwUEde31DsiPhwRfy11HRMRy5TyxvdmVPm3pY7rNj6X1LX1bnYFJPV46wGHZubtETEGOKKUT8vMzUs35F3AFsDzwI0RsRdwN/C1Uj4D+CPw1/YuFBG7AnsCW2XmfyJipcycHhFHAV/KzHHzOK4PcBUwIjPviYiBwCvAs8BHM3NWRKwL/Iwq8I0q5/t4OX4kMCMzh5WwdXtE3FjqPhjYAHgHMAEYExF9gUuAD2fmPyLiMuBw4PuN700590ciYkhmjgcOAX7c7rstqcuwJU1Ss03OzNvL458AHyyPryr/DgPGZubUzJwNXAFsD2zVUP5aw/7t+Qjw43IPXTJz+gLWcT3g6cy8pxw3s9RlaeCiiHgQ+DlV2GrLzsBBETGeKlyuDKxbXuvPM3NOZv6bKmi2XO/xzPxHeX5pec0tGl/rj4BDStfnCOCnC/iaJNWcLWmSmq31velanr+8GOecTfkjNCKWAvosxrnacxzwDLBpud6seewXwNGZecNbCiN2W8TrNr43vwBOBv4A3JuZ0xbxnJJqxpY0Sc22VkRsUx7/F/DnVtv/AnwoIlYprUUHALdStUh9KCJWjoilgX0bjplE1ZUIsAdVixfATVStTv0BImKlUv4iMKCdOv4deFdEDCvHDYiI3sDyVC1sc4ADgZaB/K3PdwNweKknEfG+iFgWuB3Yu4xNWw3YoeF6gyPiveX5geU1v01mzirnPw+7OqVuxZAmqdn+DhwZEROAFanCxlyZ+TTVGK8/AvdTtRb9qpSPBu6kCjsTGg67iCrA3Q9sQ2l5yszfA9cB40rX45fK/pcA589r4kDpTh0BnF3OeRPQFzgXOLiUvZ83W7geAN4okwyOo+qSfBi4LyIeAi6g6sn4BTClbPsJcB/V2LVZVOPLfl66UucA57fzHl5R9rmxnX0kdTGR2bqnQZI6R0QMBn6TmRs1uy7NEhHLZeZLEbEyVavhtmV82sKc40vA8pn5lSVSSUlN4Zg0SWqu30TEClTj5r6xCAHtWuA9wE5LoG6SmsiWNElqUELPOq2Kv9x60L8kLWmGNEmSpBpy4oAkSVINGdIkSZJqyJAmSZJUQ4Y0SZKkGvr/CvizevUz2R4AAAAASUVORK5CYII=\n",
       "datasetInfos": [],
       "metadata": {},
       "removedWidgets": [],
       "type": "image"
      }
     },
     "output_type": "display_data"
    }
   ],
   "source": [
    "rating_counts = df_reviews_final.groupBy('sentiment','product_category').agg(F.count('*').alias('rating_count'))\n",
    "\n",
    "# Pivoting the sentiment column to create separate columns for each sentiment\n",
    "pivoted_df = rating_counts.groupBy('product_category')\\\n",
    "                     .pivot('sentiment', ['Negative', 'Neutral', 'Positive'])\\\n",
    "                     .sum('rating_count')\\\n",
    "                     .fillna(0)\n",
    "\n",
    "# Converting the pivoted DataFrame to Pandas\n",
    "pandas_df = pivoted_df.toPandas()\n",
    "\n",
    "# Create a stacked bar plot of the counts\n",
    "fig, ax = plt.subplots(figsize=(10, 6))\n",
    "ax.set_ylim(0, 250000)\n",
    "ax.set_title(\"Reviews by sentiment on Each category\")\n",
    "colors = sns.color_palette('Paired')\n",
    "pandas_df.plot(kind='bar', stacked=True, x='product_category',color=colors,ax=ax)\n",
    "ax.set_xticklabels(pandas_df['product_category'],rotation=35);"
   ]
  },
  {
   "cell_type": "markdown",
   "metadata": {
    "application/vnd.databricks.v1+cell": {
     "cellMetadata": {},
     "inputWidgets": {},
     "nuid": "69c83f7e-83a0-4685-9f67-605d48f493c3",
     "showTitle": false,
     "title": ""
    }
   },
   "source": [
    "##### 2. Volume of data in each category"
   ]
  },
  {
   "cell_type": "code",
   "execution_count": null,
   "metadata": {
    "application/vnd.databricks.v1+cell": {
     "cellMetadata": {
      "byteLimit": 2048000,
      "rowLimit": 10000
     },
     "inputWidgets": {},
     "nuid": "9f22e3c0-4d7b-456c-9397-4f136d56d893",
     "showTitle": false,
     "title": ""
    }
   },
   "outputs": [
    {
     "data": {
      "text/html": [
       "<style scoped>\n",
       "  .table-result-container {\n",
       "    max-height: 300px;\n",
       "    overflow: auto;\n",
       "  }\n",
       "  table, th, td {\n",
       "    border: 1px solid black;\n",
       "    border-collapse: collapse;\n",
       "  }\n",
       "  th, td {\n",
       "    padding: 5px;\n",
       "  }\n",
       "  th {\n",
       "    text-align: left;\n",
       "  }\n",
       "</style><div class='table-result-container'><table class='table-result'><thead style='background-color: white'><tr><th>product_category</th><th>count</th></tr></thead><tbody><tr><td>Watches</td><td>498136</td></tr><tr><td>Personal_Care_Appliances</td><td>85915</td></tr><tr><td>Gift Card</td><td>148885</td></tr></tbody></table></div>"
      ]
     },
     "metadata": {
      "application/vnd.databricks.v1+output": {
       "addedWidgets": {},
       "aggData": [],
       "aggError": "",
       "aggOverflow": false,
       "aggSchema": [],
       "aggSeriesLimitReached": false,
       "aggType": "",
       "arguments": {},
       "columnCustomDisplayInfos": {},
       "data": [
        [
         "Watches",
         498136
        ],
        [
         "Personal_Care_Appliances",
         85915
        ],
        [
         "Gift Card",
         148885
        ]
       ],
       "datasetInfos": [],
       "dbfsResultPath": null,
       "isJsonSchema": true,
       "metadata": {},
       "overflow": false,
       "plotOptions": {
        "customPlotOptions": {},
        "displayType": "table",
        "pivotAggregation": null,
        "pivotColumns": null,
        "xColumns": null,
        "yColumns": null
       },
       "removedWidgets": [],
       "schema": [
        {
         "metadata": "{}",
         "name": "product_category",
         "type": "\"string\""
        },
        {
         "metadata": "{}",
         "name": "count",
         "type": "\"long\""
        }
       ],
       "type": "table"
      }
     },
     "output_type": "display_data"
    },
    {
     "data": {
      "text/plain": [
       "Databricks visualization. Run in Databricks to view."
      ]
     },
     "metadata": {
      "application/vnd.databricks.v1.subcommand+json": {
       "bindings": {},
       "collapsed": false,
       "command": "%python\n__backend_agg_display_orig = display\n__backend_agg_dfs = []\ndef __backend_agg_display_new(df):\n    __backend_agg_df_modules = [\"pandas.core.frame\", \"databricks.koalas.frame\", \"pyspark.sql.dataframe\", \"pyspark.pandas.frame\"]\n    if (type(df).__module__ in __backend_agg_df_modules and type(df).__name__ == 'DataFrame') or isinstance(df, list):\n        __backend_agg_dfs.append(df)\n\ndisplay = __backend_agg_display_new\n\ndef __backend_agg_user_code_fn():\n    import base64\n    exec(base64.standard_b64decode(\"ZGZfZ3JvdXBlZCA9IGRmX3Jldmlld3NfZmluYWwuZ3JvdXBieSgicHJvZHVjdF9jYXRlZ29yeSIpLmFnZyhGLmNvdW50KCIqIikuYWxpYXMoImNvdW50IikpCmRpc3BsYXkoZGZfZ3JvdXBlZCk=\").decode())\n\ntry:\n    # run user code\n    __backend_agg_user_code_fn()\n\n    #reset display function\n    display = __backend_agg_display_orig\n\n    if len(__backend_agg_dfs) > 0:\n        # create a temp view\n        if hasattr(__backend_agg_dfs[0], \"to_spark\"):\n            # koalas dataframe\n            __backend_agg_dfs[0].to_spark().createOrReplaceTempView(\"DatabricksView568c9fc\")\n        elif type(__backend_agg_dfs[0]).__module__ == \"pandas.core.frame\" or isinstance(__backend_agg_dfs[0], list):\n            # pandas dataframe\n            spark.createDataFrame(__backend_agg_dfs[0]).createOrReplaceTempView(\"DatabricksView568c9fc\")\n        else:\n            __backend_agg_dfs[0].createOrReplaceTempView(\"DatabricksView568c9fc\")\n        #run backend agg\n        display(spark.sql(\"\"\"WITH q AS (select * from DatabricksView568c9fc) SELECT `product_category`,SUM(`count`) `column_d99e30a32` FROM q GROUP BY `product_category`\"\"\"))\n    else:\n        displayHTML(\"dataframe no longer exists. If you're using dataframe.display(), use display(dataframe) instead.\")\n\n\nfinally:\n    spark.sql(\"drop view if exists DatabricksView568c9fc\")\n    display = __backend_agg_display_orig\n    del __backend_agg_display_new\n    del __backend_agg_display_orig\n    del __backend_agg_dfs\n    del __backend_agg_user_code_fn\n\n",
       "commandTitle": "Visualization 1",
       "commandType": "auto",
       "commandVersion": 0,
       "commentThread": [],
       "commentsVisible": false,
       "contentSha256Hex": null,
       "customPlotOptions": {
        "redashChart": [
         {
          "key": "type",
          "value": "CHART"
         },
         {
          "key": "options",
          "value": {
           "alignYAxesAtZero": true,
           "coefficient": 1,
           "columnConfigurationMap": {
            "x": {
             "column": "product_category",
             "id": "column_d99e30a31"
            },
            "y": [
             {
              "column": "count",
              "id": "column_d99e30a32",
              "transform": "SUM"
             }
            ]
           },
           "dateTimeFormat": "DD/MM/YYYY HH:mm",
           "direction": {
            "type": "counterclockwise"
           },
           "error_y": {
            "type": "data",
            "visible": true
           },
           "globalSeriesType": "column",
           "isAggregationOn": true,
           "legend": {
            "traceorder": "normal"
           },
           "missingValuesAsZero": true,
           "numberFormat": "0,0[.]00000",
           "percentFormat": "0[.]00%",
           "series": {
            "error_y": {
             "type": "data",
             "visible": true
            },
            "stacking": null
           },
           "seriesOptions": {
            "column_d99e30a32": {
             "name": "count",
             "yAxis": 0
            }
           },
           "showDataLabels": false,
           "sizemode": "diameter",
           "sortX": true,
           "sortY": true,
           "swappedAxes": true,
           "textFormat": "",
           "useAggregationsUi": true,
           "valuesOptions": {},
           "version": 2,
           "xAxis": {
            "labels": {
             "enabled": true
            },
            "title": {
             "text": "Reviews for each product category"
            },
            "type": "-"
           },
           "yAxis": [
            {
             "title": {
              "text": "Reviews count"
             },
             "type": "-"
            },
            {
             "opposite": true,
             "type": "-"
            }
           ]
          }
         }
        ]
       },
       "datasetPreviewNameToCmdIdMap": {},
       "diffDeletes": [],
       "diffInserts": [],
       "displayType": "redashChart",
       "error": null,
       "errorSummary": null,
       "errorTraceType": null,
       "finishTime": 0,
       "globalVars": {},
       "guid": "8e0df1cd-f9a5-44c5-9b09-e238f7758850",
       "height": "353",
       "hideCommandCode": false,
       "hideCommandResult": false,
       "iPythonMetadata": null,
       "inputWidgets": {},
       "isLockedInExamMode": false,
       "latestUser": "a user",
       "latestUserId": null,
       "listResultMetadata": null,
       "metadata": {},
       "nuid": "ab5e353d-d81c-498d-be63-592528c9f73a",
       "origId": 730018478646887,
       "parentHierarchy": [
        "8e90aa7f-64d8-48a0-99c9-48239f124c14"
       ],
       "pivotAggregation": null,
       "pivotColumns": null,
       "position": 14.75,
       "resultDbfsErrorMessage": null,
       "resultDbfsStatus": "INLINED_IN_TREE",
       "results": null,
       "showCommandTitle": false,
       "startTime": 0,
       "state": "input",
       "streamStates": {},
       "subcommandOptions": {
        "queryPlan": {
         "groups": [
          {
           "column": "product_category",
           "type": "column"
          }
         ],
         "selects": [
          {
           "column": "product_category",
           "type": "column"
          },
          {
           "alias": "column_d99e30a32",
           "args": [
            {
             "column": "count",
             "type": "column"
            }
           ],
           "function": "SUM",
           "type": "function"
          }
         ]
        }
       },
       "submitTime": 0,
       "subtype": "tableResultSubCmd.visualization",
       "tableResultIndex": 0,
       "useConsistentColors": false,
       "version": "CommandV1",
       "width": "645",
       "workflows": [],
       "xColumns": null,
       "yColumns": null
      }
     },
     "output_type": "display_data"
    }
   ],
   "source": [
    "df_grouped = df_reviews_final.groupby(\"product_category\").agg(F.count(\"*\").alias(\"count\"))\n",
    "display(df_grouped)"
   ]
  },
  {
   "cell_type": "markdown",
   "metadata": {
    "application/vnd.databricks.v1+cell": {
     "cellMetadata": {},
     "inputWidgets": {},
     "nuid": "aaa1b042-58de-4233-b0aa-4c72f86e7a66",
     "showTitle": false,
     "title": ""
    }
   },
   "source": [
    "##### 3. Distinct products in each category"
   ]
  },
  {
   "cell_type": "code",
   "execution_count": null,
   "metadata": {
    "application/vnd.databricks.v1+cell": {
     "cellMetadata": {
      "byteLimit": 2048000,
      "rowLimit": 10000
     },
     "inputWidgets": {},
     "nuid": "d042f482-47ce-4530-9f55-dc03e2348ef2",
     "showTitle": false,
     "title": ""
    }
   },
   "outputs": [
    {
     "data": {
      "text/html": [
       "<style scoped>\n",
       "  .table-result-container {\n",
       "    max-height: 300px;\n",
       "    overflow: auto;\n",
       "  }\n",
       "  table, th, td {\n",
       "    border: 1px solid black;\n",
       "    border-collapse: collapse;\n",
       "  }\n",
       "  th, td {\n",
       "    padding: 5px;\n",
       "  }\n",
       "  th {\n",
       "    text-align: left;\n",
       "  }\n",
       "</style><div class='table-result-container'><table class='table-result'><thead style='background-color: white'><tr><th>product_category</th><th>count</th></tr></thead><tbody><tr><td>Personal_Care_Appliances</td><td>17557</td></tr><tr><td>Gift Card</td><td>1779</td></tr><tr><td>Watches</td><td>91266</td></tr></tbody></table></div>"
      ]
     },
     "metadata": {
      "application/vnd.databricks.v1+output": {
       "addedWidgets": {},
       "aggData": [],
       "aggError": "",
       "aggOverflow": false,
       "aggSchema": [],
       "aggSeriesLimitReached": false,
       "aggType": "",
       "arguments": {},
       "columnCustomDisplayInfos": {},
       "data": [
        [
         "Personal_Care_Appliances",
         17557
        ],
        [
         "Gift Card",
         1779
        ],
        [
         "Watches",
         91266
        ]
       ],
       "datasetInfos": [],
       "dbfsResultPath": null,
       "isJsonSchema": true,
       "metadata": {},
       "overflow": false,
       "plotOptions": {
        "customPlotOptions": {},
        "displayType": "table",
        "pivotAggregation": null,
        "pivotColumns": null,
        "xColumns": null,
        "yColumns": null
       },
       "removedWidgets": [],
       "schema": [
        {
         "metadata": "{}",
         "name": "product_category",
         "type": "\"string\""
        },
        {
         "metadata": "{}",
         "name": "count",
         "type": "\"long\""
        }
       ],
       "type": "table"
      }
     },
     "output_type": "display_data"
    },
    {
     "data": {
      "text/plain": [
       "Databricks visualization. Run in Databricks to view."
      ]
     },
     "metadata": {
      "application/vnd.databricks.v1.subcommand+json": {
       "bindings": {},
       "collapsed": false,
       "command": "%python\n__backend_agg_display_orig = display\n__backend_agg_dfs = []\ndef __backend_agg_display_new(df):\n    __backend_agg_df_modules = [\"pandas.core.frame\", \"databricks.koalas.frame\", \"pyspark.sql.dataframe\", \"pyspark.pandas.frame\"]\n    if (type(df).__module__ in __backend_agg_df_modules and type(df).__name__ == 'DataFrame') or isinstance(df, list):\n        __backend_agg_dfs.append(df)\n\ndisplay = __backend_agg_display_new\n\ndef __backend_agg_user_code_fn():\n    import base64\n    exec(base64.standard_b64decode(\"ZGZfcG9wdWxhcl9wcm9kdWN0cyA9IGRmX3Jldmlld3NfZmluYWwuZ3JvdXBieSgicHJvZHVjdF9jYXRlZ29yeSIpLmFnZyhGLmNvdW50RGlzdGluY3QoInByb2R1Y3RfaWQiKS5hbGlhcygiY291bnQiKSkKZGlzcGxheShkZl9wb3B1bGFyX3Byb2R1Y3RzKQ==\").decode())\n\ntry:\n    # run user code\n    __backend_agg_user_code_fn()\n\n    #reset display function\n    display = __backend_agg_display_orig\n\n    if len(__backend_agg_dfs) > 0:\n        # create a temp view\n        if hasattr(__backend_agg_dfs[0], \"to_spark\"):\n            # koalas dataframe\n            __backend_agg_dfs[0].to_spark().createOrReplaceTempView(\"DatabricksView69367c8\")\n        elif type(__backend_agg_dfs[0]).__module__ == \"pandas.core.frame\" or isinstance(__backend_agg_dfs[0], list):\n            # pandas dataframe\n            spark.createDataFrame(__backend_agg_dfs[0]).createOrReplaceTempView(\"DatabricksView69367c8\")\n        else:\n            __backend_agg_dfs[0].createOrReplaceTempView(\"DatabricksView69367c8\")\n        #run backend agg\n        display(spark.sql(\"\"\"WITH q AS (select * from DatabricksView69367c8) SELECT `product_category`,SUM(`count`) `column_d99e30a34` FROM q GROUP BY `product_category`\"\"\"))\n    else:\n        displayHTML(\"dataframe no longer exists. If you're using dataframe.display(), use display(dataframe) instead.\")\n\n\nfinally:\n    spark.sql(\"drop view if exists DatabricksView69367c8\")\n    display = __backend_agg_display_orig\n    del __backend_agg_display_new\n    del __backend_agg_display_orig\n    del __backend_agg_dfs\n    del __backend_agg_user_code_fn\n\n",
       "commandTitle": "Visualization 1",
       "commandType": "auto",
       "commandVersion": 0,
       "commentThread": [],
       "commentsVisible": false,
       "contentSha256Hex": null,
       "customPlotOptions": {
        "redashChart": [
         {
          "key": "type",
          "value": "CHART"
         },
         {
          "key": "options",
          "value": {
           "alignYAxesAtZero": true,
           "coefficient": 1,
           "columnConfigurationMap": {
            "x": {
             "column": "product_category",
             "id": "column_d99e30a33"
            },
            "y": [
             {
              "column": "count",
              "id": "column_d99e30a34",
              "transform": "SUM"
             }
            ]
           },
           "dateTimeFormat": "DD/MM/YYYY HH:mm",
           "direction": {
            "type": "counterclockwise"
           },
           "error_y": {
            "type": "data",
            "visible": true
           },
           "globalSeriesType": "column",
           "isAggregationOn": true,
           "legend": {
            "traceorder": "normal"
           },
           "missingValuesAsZero": true,
           "numberFormat": "0,0[.]00000",
           "percentFormat": "0[.]00%",
           "series": {
            "error_y": {
             "type": "data",
             "visible": true
            },
            "stacking": null
           },
           "seriesOptions": {
            "column_d99e30a34": {
             "color": "#981717",
             "name": "count",
             "yAxis": 0
            }
           },
           "showDataLabels": false,
           "sizemode": "diameter",
           "sortX": true,
           "sortY": true,
           "swappedAxes": false,
           "textFormat": "",
           "useAggregationsUi": true,
           "valuesOptions": {},
           "version": 2,
           "xAxis": {
            "labels": {
             "enabled": true
            },
            "title": {
             "text": "Distinct Products under each category"
            },
            "type": "-"
           },
           "yAxis": [
            {
             "type": "-"
            },
            {
             "opposite": true,
             "type": "-"
            }
           ]
          }
         }
        ]
       },
       "datasetPreviewNameToCmdIdMap": {},
       "diffDeletes": [],
       "diffInserts": [],
       "displayType": "redashChart",
       "error": null,
       "errorSummary": null,
       "errorTraceType": null,
       "finishTime": 0,
       "globalVars": {},
       "guid": "d20cf251-49e3-4148-b19d-2e00408b5d1f",
       "height": "340",
       "hideCommandCode": false,
       "hideCommandResult": false,
       "iPythonMetadata": null,
       "inputWidgets": {},
       "isLockedInExamMode": false,
       "latestUser": "a user",
       "latestUserId": null,
       "listResultMetadata": null,
       "metadata": {},
       "nuid": "811ac2e8-65bf-47ae-a641-9a39be273eee",
       "origId": 730018478646890,
       "parentHierarchy": [
        "5f93eeae-058d-4df2-bf2c-a9dd1ed4ca2f"
       ],
       "pivotAggregation": null,
       "pivotColumns": null,
       "position": 18.75,
       "resultDbfsErrorMessage": null,
       "resultDbfsStatus": "INLINED_IN_TREE",
       "results": null,
       "showCommandTitle": false,
       "startTime": 0,
       "state": "input",
       "streamStates": {},
       "subcommandOptions": {
        "queryPlan": {
         "groups": [
          {
           "column": "product_category",
           "type": "column"
          }
         ],
         "selects": [
          {
           "column": "product_category",
           "type": "column"
          },
          {
           "alias": "column_d99e30a34",
           "args": [
            {
             "column": "count",
             "type": "column"
            }
           ],
           "function": "SUM",
           "type": "function"
          }
         ]
        }
       },
       "submitTime": 0,
       "subtype": "tableResultSubCmd.visualization",
       "tableResultIndex": 0,
       "useConsistentColors": false,
       "version": "CommandV1",
       "width": "615",
       "workflows": [],
       "xColumns": null,
       "yColumns": null
      }
     },
     "output_type": "display_data"
    }
   ],
   "source": [
    "df_popular_products = df_reviews_final.groupby(\"product_category\").agg(F.countDistinct(\"product_id\").alias(\"count\"))\n",
    "display(df_popular_products)"
   ]
  },
  {
   "cell_type": "markdown",
   "metadata": {
    "application/vnd.databricks.v1+cell": {
     "cellMetadata": {},
     "inputWidgets": {},
     "nuid": "9d6824bf-23c1-4ad2-9914-b4cb62a4559f",
     "showTitle": false,
     "title": ""
    }
   },
   "source": [
    "## 2. Analysis on review's dataset"
   ]
  },
  {
   "cell_type": "markdown",
   "metadata": {
    "application/vnd.databricks.v1+cell": {
     "cellMetadata": {},
     "inputWidgets": {},
     "nuid": "4998ac33-ccc1-4413-99a7-4c23acd25cff",
     "showTitle": false,
     "title": ""
    }
   },
   "source": [
    "### 1. Rating volume by customers"
   ]
  },
  {
   "cell_type": "markdown",
   "metadata": {
    "application/vnd.databricks.v1+cell": {
     "cellMetadata": {},
     "inputWidgets": {},
     "nuid": "162091ea-fe58-4eb3-b22d-05675ac72296",
     "showTitle": false,
     "title": ""
    }
   },
   "source": [
    "Customers always showed their interest in reviewing the product with a higher rating of 121 reviews with lower rating of 13 reviews\n",
    "\n",
    "so, it is always a good start to use customer reviews to suggest similar products"
   ]
  },
  {
   "cell_type": "code",
   "execution_count": null,
   "metadata": {},
   "outputs": [],
   "source": [
    "rating_vol = df_reviews_final.groupBy('customer_id').count().orderBy('count',ascending=False)"
   ]
  },
  {
   "cell_type": "markdown",
   "metadata": {
    "application/vnd.databricks.v1+cell": {
     "cellMetadata": {},
     "inputWidgets": {},
     "nuid": "fd2f30d7-3359-4de2-8af2-ca45f6ff03f4",
     "showTitle": false,
     "title": ""
    }
   },
   "source": [
    "##### 1a. Sentiment Trend over time"
   ]
  },
  {
   "cell_type": "code",
   "execution_count": null,
   "metadata": {
    "application/vnd.databricks.v1+cell": {
     "cellMetadata": {
      "byteLimit": 2048000,
      "rowLimit": 10000
     },
     "inputWidgets": {},
     "nuid": "4ed2a2b8-c85d-4e99-8dc2-b0f0283bd858",
     "showTitle": false,
     "title": ""
    }
   },
   "outputs": [
    {
     "data": {
      "image/png": "[encoded data removed]"
     },
     "metadata": {
      "application/vnd.databricks.v1+output": {
       "addedWidgets": {},
       "arguments": {},
       "data": "data:image/png;base64,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\n",
       "datasetInfos": [],
       "metadata": {},
       "removedWidgets": [],
       "type": "image"
      }
     },
     "output_type": "display_data"
    }
   ],
   "source": [
    "review_df = df_reviews_final.select(F.col(\"review_date\"), F.col(\"review_body\"),F.col(\"sentiment\")).filter(F.year(F.col(\"review_date\")) == 2015)\n",
    "sentiment_trend_df = review_df.groupBy(\"review_date\", \"sentiment\").agg(F.count(\"*\").alias(\"sentiment_count\"))\n",
    "\n",
    "fig, ax = plt.subplots(figsize=(20, 6))\n",
    "sns.lineplot(x=\"review_date\", y=\"sentiment_count\", hue=\"sentiment\", data=sentiment_trend_df.toPandas())\n",
    "ax.set_xlabel(\"Date\")\n",
    "ax.set_ylabel(\"Sentiment Count\")\n",
    "ax.set_title(\"Sentiment Trend by Date\")\n",
    "plt.show()\n"
   ]
  },
  {
   "cell_type": "markdown",
   "metadata": {
    "application/vnd.databricks.v1+cell": {
     "cellMetadata": {},
     "inputWidgets": {},
     "nuid": "4c6f2e7b-52ce-4e2f-8508-0fa0235b2055",
     "showTitle": false,
     "title": ""
    }
   },
   "source": [
    "1. Positive review count from fluctuates highly during holiday's season like (january, june).\n",
    "2. Negative/ neutral reviews remains constant throught the year."
   ]
  },
  {
   "cell_type": "markdown",
   "metadata": {
    "application/vnd.databricks.v1+cell": {
     "cellMetadata": {},
     "inputWidgets": {},
     "nuid": "89b86cbd-8676-4c7a-a88d-5f057d56f2f0",
     "showTitle": false,
     "title": ""
    }
   },
   "source": [
    "### 2. Identifying User Characteristics"
   ]
  },
  {
   "cell_type": "code",
   "execution_count": null,
   "metadata": {
    "application/vnd.databricks.v1+cell": {
     "cellMetadata": {
      "byteLimit": 2048000,
      "rowLimit": 10000
     },
     "inputWidgets": {},
     "nuid": "8061cf5c-4323-4c94-a09a-bec66f320b23",
     "showTitle": false,
     "title": ""
    }
   },
   "outputs": [],
   "source": [
    "# grouping customer_id\n",
    "grouped_customer = df_reviews_final.groupBy('customer_id','sentiment')\n",
    "\n",
    "# categorizing users based on their reviewing frequency\n",
    "reviews_per_user = grouped_customer.count().orderBy('count', ascending=False)\n",
    "\n",
    "regular_users = reviews_per_user.filter(F.col('count') > 50).select('customer_id').distinct()\n",
    "medium_users = reviews_per_user.filter((F.col('count') <= 50) & (F.col('count') > 20)).select('customer_id').distinct()"
   ]
  },
  {
   "cell_type": "code",
   "execution_count": null,
   "metadata": {
    "application/vnd.databricks.v1+cell": {
     "cellMetadata": {
      "byteLimit": 2048000,
      "rowLimit": 10000
     },
     "inputWidgets": {},
     "nuid": "a5f003bd-b987-4eb6-9ee4-15ebd156122d",
     "showTitle": false,
     "title": ""
    }
   },
   "outputs": [],
   "source": [
    "def visualize_user_behaviour(input_df,title,size):\n",
    "    \n",
    "    # Pivoting the sentiment column to create separate columns for each sentiment\n",
    "    pivoted_df = input_df.groupBy('customer_id')\\\n",
    "                     .pivot('sentiment', ['Negative', 'Neutral', 'Positive'])\\\n",
    "                     .sum('count')\\\n",
    "                     .fillna(0)\n",
    "    # Converting the pivoted DataFrame to Pandas\n",
    "    pandas_df = pivoted_df.toPandas()\n",
    "    # Create a stacked bar plot of the counts\n",
    "    fig, ax = plt.subplots(figsize= size)\n",
    "    colors = sns.color_palette('Dark2')\n",
    "    pandas_df.plot(kind='bar', stacked=True, x='customer_id',color=colors,ax=ax)\n",
    "    ax.set_title(title)\n",
    "    ax.set_xticklabels(pandas_df['customer_id'],rotation=35);"
   ]
  },
  {
   "cell_type": "markdown",
   "metadata": {
    "application/vnd.databricks.v1+cell": {
     "cellMetadata": {},
     "inputWidgets": {},
     "nuid": "b9636de6-de4e-415a-a473-16a3c3600b3c",
     "showTitle": false,
     "title": ""
    }
   },
   "source": [
    "##### 2a. Behaviour of frequently visiting customers"
   ]
  },
  {
   "cell_type": "code",
   "execution_count": null,
   "metadata": {
    "application/vnd.databricks.v1+cell": {
     "cellMetadata": {
      "byteLimit": 2048000,
      "rowLimit": 10000
     },
     "inputWidgets": {},
     "nuid": "a0c598f5-952b-4072-a497-64681c7f03a7",
     "showTitle": false,
     "title": ""
    }
   },
   "outputs": [
    {
     "data": {
      "image/png": "[encoded data removed]"
     },
     "metadata": {
      "application/vnd.databricks.v1+output": {
       "addedWidgets": {},
       "arguments": {},
       "data": "data:image/png;base64,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\n",
       "datasetInfos": [],
       "metadata": {},
       "removedWidgets": [],
       "type": "image"
      }
     },
     "output_type": "display_data"
    }
   ],
   "source": [
    "regular_user_behaviour = reviews_per_user.join(regular_users, on='customer_id', how='inner')\n",
    "visualize_user_behaviour(regular_user_behaviour,title = \"Behaviour of frequently rating customers\",size=(10,6))\n"
   ]
  },
  {
   "cell_type": "markdown",
   "metadata": {
    "application/vnd.databricks.v1+cell": {
     "cellMetadata": {},
     "inputWidgets": {},
     "nuid": "94dfd760-d595-46d4-a552-c25460f844ad",
     "showTitle": false,
     "title": ""
    }
   },
   "source": [
    "##### 2b. Behaviour of occasionally visiting customers"
   ]
  },
  {
   "cell_type": "code",
   "execution_count": null,
   "metadata": {
    "application/vnd.databricks.v1+cell": {
     "cellMetadata": {
      "byteLimit": 2048000,
      "rowLimit": 10000
     },
     "inputWidgets": {},
     "nuid": "74f8f83a-ad2e-4b53-b0d2-5243b73d44f1",
     "showTitle": false,
     "title": ""
    }
   },
   "outputs": [
    {
     "data": {
      "image/png": "[encoded data removed]"
     },
     "metadata": {
      "application/vnd.databricks.v1+output": {
       "addedWidgets": {},
       "arguments": {},
       "data": "data:image/png;base64,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\n",
       "datasetInfos": [],
       "metadata": {},
       "removedWidgets": [],
       "type": "image"
      }
     },
     "output_type": "display_data"
    }
   ],
   "source": [
    "medium_user_behaviour = reviews_per_user.join(medium_users, on='customer_id', how='inner')\n",
    "visualize_user_behaviour(medium_user_behaviour,title = \"Behaviour of occasionally visiting customers\",size=(30,6))"
   ]
  },
  {
   "cell_type": "markdown",
   "metadata": {
    "application/vnd.databricks.v1+cell": {
     "cellMetadata": {},
     "inputWidgets": {},
     "nuid": "6c09be13-e525-4bf4-93ac-4d9a687fb2e5",
     "showTitle": false,
     "title": ""
    }
   },
   "source": [
    "##### 2c. Highly bought products by frequent customers"
   ]
  },
  {
   "cell_type": "code",
   "execution_count": null,
   "metadata": {
    "application/vnd.databricks.v1+cell": {
     "cellMetadata": {
      "byteLimit": 2048000,
      "rowLimit": 10000
     },
     "inputWidgets": {},
     "nuid": "77564e48-6457-4a6a-bfae-bec8df5900f1",
     "showTitle": false,
     "title": ""
    }
   },
   "outputs": [
    {
     "data": {
      "text/html": [
       "<style scoped>\n",
       "  .table-result-container {\n",
       "    max-height: 300px;\n",
       "    overflow: auto;\n",
       "  }\n",
       "  table, th, td {\n",
       "    border: 1px solid black;\n",
       "    border-collapse: collapse;\n",
       "  }\n",
       "  th, td {\n",
       "    padding: 5px;\n",
       "  }\n",
       "  th {\n",
       "    text-align: left;\n",
       "  }\n",
       "</style><div class='table-result-container'><table class='table-result'><thead style='background-color: white'><tr><th>product_title</th><th>product_category</th><th>frequent_ratings_count</th></tr></thead><tbody><tr><td>Clockwork Synergy Classic Nylon Nato watch straps bands</td><td>Watches</td><td>1319</td></tr><tr><td>amjimshop Vovotrade(TM) unisex Digital LED Touch Sports Silicone Bracelet Wrist Watch</td><td>Watches</td><td>726</td></tr><tr><td>Yodee Unisex Touchscreen Red LED Digital Bright Color Rubber Band Wrist Watch (Assorted Colors) 30% Off</td><td>Watches</td><td>484</td></tr><tr><td>U.S. Polo Assn. Sport Men's US9061 Watch with Black Rubber Strap Watch</td><td>Watches</td><td>381</td></tr><tr><td>Unisex Touch Digital Red Led Silicone Sports Wrist Watch Watch Orange</td><td>Watches</td><td>242</td></tr><tr><td>Unisex Touch Digital Red Led Silicone Sports Wrist Watch Watch Grey</td><td>Watches</td><td>242</td></tr><tr><td>URgreat Unisex Magic Hidden Touch Screen Red LED Wrist Watch Color Orange</td><td>Watches</td><td>242</td></tr><tr><td>Unisex Touch Digital Red Led Silicone Sports Wrist Watch Watch White</td><td>Watches</td><td>242</td></tr><tr><td>Unisex Touch Digital Red Led Silicone Sports Wrist Watch Watch Purple</td><td>Watches</td><td>242</td></tr><tr><td>Invicta Men's 1438 Russian Diver Gold Stainless Steel Watch with Polyurethane Band</td><td>Watches</td><td>239</td></tr></tbody></table></div>"
      ]
     },
     "metadata": {
      "application/vnd.databricks.v1+output": {
       "addedWidgets": {},
       "aggData": [],
       "aggError": "",
       "aggOverflow": false,
       "aggSchema": [],
       "aggSeriesLimitReached": false,
       "aggType": "",
       "arguments": {},
       "columnCustomDisplayInfos": {},
       "data": [
        [
         "Clockwork Synergy Classic Nylon Nato watch straps bands",
         "Watches",
         1319
        ],
        [
         "amjimshop Vovotrade(TM) unisex Digital LED Touch Sports Silicone Bracelet Wrist Watch",
         "Watches",
         726
        ],
        [
         "Yodee Unisex Touchscreen Red LED Digital Bright Color Rubber Band Wrist Watch (Assorted Colors) 30% Off",
         "Watches",
         484
        ],
        [
         "U.S. Polo Assn. Sport Men's US9061 Watch with Black Rubber Strap Watch",
         "Watches",
         381
        ],
        [
         "Unisex Touch Digital Red Led Silicone Sports Wrist Watch Watch Orange",
         "Watches",
         242
        ],
        [
         "Unisex Touch Digital Red Led Silicone Sports Wrist Watch Watch Grey",
         "Watches",
         242
        ],
        [
         "URgreat Unisex Magic Hidden Touch Screen Red LED Wrist Watch Color Orange",
         "Watches",
         242
        ],
        [
         "Unisex Touch Digital Red Led Silicone Sports Wrist Watch Watch White",
         "Watches",
         242
        ],
        [
         "Unisex Touch Digital Red Led Silicone Sports Wrist Watch Watch Purple",
         "Watches",
         242
        ],
        [
         "Invicta Men's 1438 Russian Diver Gold Stainless Steel Watch with Polyurethane Band",
         "Watches",
         239
        ]
       ],
       "datasetInfos": [],
       "dbfsResultPath": null,
       "isJsonSchema": true,
       "metadata": {},
       "overflow": false,
       "plotOptions": {
        "customPlotOptions": {},
        "displayType": "table",
        "pivotAggregation": null,
        "pivotColumns": null,
        "xColumns": null,
        "yColumns": null
       },
       "removedWidgets": [],
       "schema": [
        {
         "metadata": "{}",
         "name": "product_title",
         "type": "\"string\""
        },
        {
         "metadata": "{}",
         "name": "product_category",
         "type": "\"string\""
        },
        {
         "metadata": "{}",
         "name": "frequent_ratings_count",
         "type": "\"long\""
        }
       ],
       "type": "table"
      }
     },
     "output_type": "display_data"
    },
    {
     "data": {
      "text/plain": [
       "Databricks visualization. Run in Databricks to view."
      ]
     },
     "metadata": {
      "application/vnd.databricks.v1.subcommand+json": {
       "bindings": {},
       "collapsed": false,
       "command": "%python\n__backend_agg_display_orig = display\n__backend_agg_dfs = []\ndef __backend_agg_display_new(df):\n    __backend_agg_df_modules = [\"pandas.core.frame\", \"databricks.koalas.frame\", \"pyspark.sql.dataframe\", \"pyspark.pandas.frame\"]\n    if (type(df).__module__ in __backend_agg_df_modules and type(df).__name__ == 'DataFrame') or isinstance(df, list):\n        __backend_agg_dfs.append(df)\n\ndisplay = __backend_agg_display_new\n\ndef __backend_agg_user_code_fn():\n    import base64\n    exec(base64.standard_b64decode(\"IyBmcmVxdWVudCBjdXN0b21lcnMKcmF0aW5nc19wZXJfdXNlciA9IGRmX3Jldmlld3NfZmluYWwuZ3JvdXBCeSgnY3VzdG9tZXJfaWQnKS5jb3VudCgpLmZpbHRlcihGLmNvbCgnY291bnQnKT4zMCkKCiMgSm9pbmluZyByYXRpbmdzX3Blcl91c2VyIHdpdGggZGZfcmV2aWV3c19maW5hbCBvbiBjdXN0b21lcl9pZCBjb2x1bW4KZnJlcXVlbnRfcmF0aW5ncyA9IHJhdGluZ3NfcGVyX3VzZXIuam9pbihkZl9yZXZpZXdzX2ZpbmFsLCBvbj0nY3VzdG9tZXJfaWQnLCBob3c9J2lubmVyJykKCiMgR3JvdXAgYnkgcHJvZHVjdF9pZCB0byBnZXQgY291bnQgb2YgcmF0aW5ncyBmb3IgZWFjaCBwcm9kdWN0IGJ5IGZyZXF1ZW50IGN1c3RvbWVycwpmcmVxdWVudF9wcm9kdWN0cyA9IGZyZXF1ZW50X3JhdGluZ3MuZ3JvdXBCeSgncHJvZHVjdF90aXRsZScsJ3Byb2R1Y3RfY2F0ZWdvcnknKS5hZ2coeydjb3VudCc6ICdzdW0nfSkud2l0aENvbHVtblJlbmFtZWQoJ3N1bShjb3VudCknLCAnZnJlcXVlbnRfcmF0aW5nc19jb3VudCcpLmZpbHRlcihGLmNvbCgnZnJlcXVlbnRfcmF0aW5nc19jb3VudCcpID4gMzApLm9yZGVyQnkoImZyZXF1ZW50X3JhdGluZ3NfY291bnQiLGFzY2VuZGluZz1GYWxzZSkubGltaXQoMTApCgpkaXNwbGF5KGZyZXF1ZW50X3Byb2R1Y3RzKQ==\").decode())\n\ntry:\n    # run user code\n    __backend_agg_user_code_fn()\n\n    #reset display function\n    display = __backend_agg_display_orig\n\n    if len(__backend_agg_dfs) > 0:\n        # create a temp view\n        if hasattr(__backend_agg_dfs[0], \"to_spark\"):\n            # koalas dataframe\n            __backend_agg_dfs[0].to_spark().createOrReplaceTempView(\"DatabricksView49a5bc0\")\n        elif type(__backend_agg_dfs[0]).__module__ == \"pandas.core.frame\" or isinstance(__backend_agg_dfs[0], list):\n            # pandas dataframe\n            spark.createDataFrame(__backend_agg_dfs[0]).createOrReplaceTempView(\"DatabricksView49a5bc0\")\n        else:\n            __backend_agg_dfs[0].createOrReplaceTempView(\"DatabricksView49a5bc0\")\n        #run backend agg\n        display(spark.sql(\"\"\"WITH q AS (select * from DatabricksView49a5bc0) SELECT `product_title`,`product_category`,SUM(`frequent_ratings_count`) `column_5c28a2403` FROM q GROUP BY `product_category`,`product_title`\"\"\"))\n    else:\n        displayHTML(\"dataframe no longer exists. If you're using dataframe.display(), use display(dataframe) instead.\")\n\n\nfinally:\n    spark.sql(\"drop view if exists DatabricksView49a5bc0\")\n    display = __backend_agg_display_orig\n    del __backend_agg_display_new\n    del __backend_agg_display_orig\n    del __backend_agg_dfs\n    del __backend_agg_user_code_fn\n\n",
       "commandTitle": "Visualization 1",
       "commandType": "auto",
       "commandVersion": 0,
       "commentThread": [],
       "commentsVisible": false,
       "contentSha256Hex": null,
       "customPlotOptions": {
        "redashChart": [
         {
          "key": "type",
          "value": "CHART"
         },
         {
          "key": "options",
          "value": {
           "alignYAxesAtZero": true,
           "coefficient": 1,
           "columnConfigurationMap": {
            "series": {
             "column": "product_category",
             "id": "column_5c28a2402"
            },
            "x": {
             "column": "product_title",
             "id": "column_5c28a2401"
            },
            "y": [
             {
              "column": "frequent_ratings_count",
              "id": "column_5c28a2403",
              "transform": "SUM"
             }
            ]
           },
           "dateTimeFormat": "DD/MM/YYYY HH:mm",
           "direction": {
            "type": "counterclockwise"
           },
           "error_y": {
            "type": "data",
            "visible": true
           },
           "globalSeriesType": "pie",
           "isAggregationOn": true,
           "legend": {
            "traceorder": "normal"
           },
           "missingValuesAsZero": true,
           "numberFormat": "0,0[.]00000",
           "percentFormat": "0[.]00%",
           "series": {
            "error_y": {
             "type": "data",
             "visible": true
            },
            "stacking": null
           },
           "seriesOptions": {
            "column_5c28a2403": {
             "name": "frequent_ratings_count",
             "type": "pie",
             "yAxis": 0
            }
           },
           "showDataLabels": true,
           "sizemode": "diameter",
           "sortX": true,
           "sortY": true,
           "swappedAxes": false,
           "textFormat": "",
           "useAggregationsUi": true,
           "valuesOptions": {
            "Clockwork Synergy Classic Nylon Nato watch straps bands": {
             "color": "#799CFF"
            },
            "amjimshop Vovotrade(TM) unisex Digital LED Touch Sports Silicone Bracelet Wrist Watch": {
             "color": "#00B6EB"
            }
           },
           "version": 2,
           "xAxis": {
            "labels": {
             "enabled": true
            },
            "type": "-"
           },
           "yAxis": [
            {
             "type": "-"
            },
            {
             "opposite": true,
             "type": "-"
            }
           ]
          }
         }
        ]
       },
       "datasetPreviewNameToCmdIdMap": {},
       "diffDeletes": [],
       "diffInserts": [],
       "displayType": "redashChart",
       "error": null,
       "errorSummary": null,
       "errorTraceType": null,
       "finishTime": 0,
       "globalVars": {},
       "guid": "14e6ba70-b224-4d7f-9341-5b8807cd9453",
       "height": "auto",
       "hideCommandCode": false,
       "hideCommandResult": false,
       "iPythonMetadata": null,
       "inputWidgets": {},
       "isLockedInExamMode": false,
       "latestUser": "a user",
       "latestUserId": null,
       "listResultMetadata": null,
       "metadata": {},
       "nuid": "11536b0b-fb73-4eaf-9fb9-a7debee0373f",
       "origId": 1012451875780647,
       "parentHierarchy": [
        "b81e872c-8092-42d8-9d42-10dab1bc2e70"
       ],
       "pivotAggregation": null,
       "pivotColumns": null,
       "position": 37.75,
       "resultDbfsErrorMessage": null,
       "resultDbfsStatus": "INLINED_IN_TREE",
       "results": null,
       "showCommandTitle": false,
       "startTime": 0,
       "state": "input",
       "streamStates": {},
       "subcommandOptions": {
        "queryPlan": {
         "groups": [
          {
           "column": "product_title",
           "type": "column"
          },
          {
           "column": "product_category",
           "type": "column"
          }
         ],
         "selects": [
          {
           "column": "product_title",
           "type": "column"
          },
          {
           "column": "product_category",
           "type": "column"
          },
          {
           "alias": "column_5c28a2403",
           "args": [
            {
             "column": "frequent_ratings_count",
             "type": "column"
            }
           ],
           "function": "SUM",
           "type": "function"
          }
         ]
        }
       },
       "submitTime": 0,
       "subtype": "tableResultSubCmd.visualization",
       "tableResultIndex": 0,
       "useConsistentColors": false,
       "version": "CommandV1",
       "width": "auto",
       "workflows": [],
       "xColumns": null,
       "yColumns": null
      }
     },
     "output_type": "display_data"
    }
   ],
   "source": [
    "# frequent customers\n",
    "ratings_per_user = df_reviews_final.groupBy('customer_id').count().filter(F.col('count')>30)\n",
    "\n",
    "# Joining ratings_per_user with df_reviews_final on customer_id column\n",
    "frequent_ratings = ratings_per_user.join(df_reviews_final, on='customer_id', how='inner')\n",
    "\n",
    "# Group by product_id to get count of ratings for each product by frequent customers\n",
    "frequent_products = frequent_ratings.groupBy('product_title','product_category').agg({'count': 'sum'}).withColumnRenamed('sum(count)', 'frequent_ratings_count').filter(F.col('frequent_ratings_count') > 30).orderBy(\"frequent_ratings_count\",ascending=False).limit(10)\n",
    "\n",
    "display(frequent_products)"
   ]
  },
  {
   "cell_type": "markdown",
   "metadata": {
    "application/vnd.databricks.v1+cell": {
     "cellMetadata": {},
     "inputWidgets": {},
     "nuid": "10529792-a24e-43a9-b373-99b4673120f9",
     "showTitle": false,
     "title": ""
    }
   },
   "source": [
    "##### 2c.a. % of star_rating for top product"
   ]
  },
  {
   "cell_type": "code",
   "execution_count": null,
   "metadata": {
    "application/vnd.databricks.v1+cell": {
     "cellMetadata": {
      "byteLimit": 2048000,
      "rowLimit": 10000
     },
     "inputWidgets": {},
     "nuid": "4294c1da-d87c-458a-8a2e-bdb6b00e8a9c",
     "showTitle": false,
     "title": ""
    }
   },
   "outputs": [],
   "source": [
    "df_top_1 = df_reviews_final.filter(F.col(\"product_title\")== \"Clockwork Synergy Classic Nylon Nato watch straps bands\")\n",
    "product_ratings = df_top_1.groupBy(\"product_title\", \"star_rating\").agg(F.count(\"*\").alias(\"count\"))\n",
    "product_totals = product_ratings.groupBy(\"product_title\").agg(F.count(\"*\").alias(\"total\"))\n",
    "product_percentages = product_ratings.join(product_totals, \"product_title\") \\\n",
    "    .withColumn(\"percentage\", F.round((F.col(\"count\") / F.col(\"total\")) * 100, 2)) \\\n",
    "    .select(\"product_title\", \"star_rating\", \"percentage\")\n"
   ]
  },
  {
   "cell_type": "code",
   "execution_count": null,
   "metadata": {
    "application/vnd.databricks.v1+cell": {
     "cellMetadata": {
      "byteLimit": 2048000,
      "rowLimit": 10000
     },
     "inputWidgets": {},
     "nuid": "af40691b-4098-456d-81a5-9a25dc58be13",
     "showTitle": false,
     "title": ""
    }
   },
   "outputs": [
    {
     "data": {
      "text/html": [
       "<style scoped>\n",
       "  .table-result-container {\n",
       "    max-height: 300px;\n",
       "    overflow: auto;\n",
       "  }\n",
       "  table, th, td {\n",
       "    border: 1px solid black;\n",
       "    border-collapse: collapse;\n",
       "  }\n",
       "  th, td {\n",
       "    padding: 5px;\n",
       "  }\n",
       "  th {\n",
       "    text-align: left;\n",
       "  }\n",
       "</style><div class='table-result-container'><table class='table-result'><thead style='background-color: white'><tr><th>product_title</th><th>star_rating</th><th>percentage</th></tr></thead><tbody><tr><td>Clockwork Synergy Classic Nylon Nato watch straps bands</td><td>3</td><td>380.0</td></tr><tr><td>Clockwork Synergy Classic Nylon Nato watch straps bands</td><td>4</td><td>780.0</td></tr><tr><td>Clockwork Synergy Classic Nylon Nato watch straps bands</td><td>1</td><td>240.0</td></tr><tr><td>Clockwork Synergy Classic Nylon Nato watch straps bands</td><td>2</td><td>180.0</td></tr><tr><td>Clockwork Synergy Classic Nylon Nato watch straps bands</td><td>5</td><td>4380.0</td></tr></tbody></table></div>"
      ]
     },
     "metadata": {
      "application/vnd.databricks.v1+output": {
       "addedWidgets": {},
       "aggData": [],
       "aggError": "",
       "aggOverflow": false,
       "aggSchema": [],
       "aggSeriesLimitReached": false,
       "aggType": "",
       "arguments": {},
       "columnCustomDisplayInfos": {},
       "data": [
        [
         "Clockwork Synergy Classic Nylon Nato watch straps bands",
         3,
         380
        ],
        [
         "Clockwork Synergy Classic Nylon Nato watch straps bands",
         4,
         780
        ],
        [
         "Clockwork Synergy Classic Nylon Nato watch straps bands",
         1,
         240
        ],
        [
         "Clockwork Synergy Classic Nylon Nato watch straps bands",
         2,
         180
        ],
        [
         "Clockwork Synergy Classic Nylon Nato watch straps bands",
         5,
         4380
        ]
       ],
       "datasetInfos": [],
       "dbfsResultPath": null,
       "isJsonSchema": true,
       "metadata": {},
       "overflow": false,
       "plotOptions": {
        "customPlotOptions": {},
        "displayType": "table",
        "pivotAggregation": null,
        "pivotColumns": null,
        "xColumns": null,
        "yColumns": null
       },
       "removedWidgets": [],
       "schema": [
        {
         "metadata": "{}",
         "name": "product_title",
         "type": "\"string\""
        },
        {
         "metadata": "{}",
         "name": "star_rating",
         "type": "\"integer\""
        },
        {
         "metadata": "{}",
         "name": "percentage",
         "type": "\"double\""
        }
       ],
       "type": "table"
      }
     },
     "output_type": "display_data"
    },
    {
     "data": {
      "text/plain": [
       "Databricks visualization. Run in Databricks to view."
      ]
     },
     "metadata": {
      "application/vnd.databricks.v1.subcommand+json": {
       "bindings": {},
       "collapsed": false,
       "command": "%python\n__backend_agg_display_orig = display\n__backend_agg_dfs = []\ndef __backend_agg_display_new(df):\n    __backend_agg_df_modules = [\"pandas.core.frame\", \"databricks.koalas.frame\", \"pyspark.sql.dataframe\", \"pyspark.pandas.frame\"]\n    if (type(df).__module__ in __backend_agg_df_modules and type(df).__name__ == 'DataFrame') or isinstance(df, list):\n        __backend_agg_dfs.append(df)\n\ndisplay = __backend_agg_display_new\n\ndef __backend_agg_user_code_fn():\n    import base64\n    exec(base64.standard_b64decode(\"ZGlzcGxheShwcm9kdWN0X3BlcmNlbnRhZ2VzCiAgICAgICAp\").decode())\n\ntry:\n    # run user code\n    __backend_agg_user_code_fn()\n\n    #reset display function\n    display = __backend_agg_display_orig\n\n    if len(__backend_agg_dfs) > 0:\n        # create a temp view\n        if hasattr(__backend_agg_dfs[0], \"to_spark\"):\n            # koalas dataframe\n            __backend_agg_dfs[0].to_spark().createOrReplaceTempView(\"DatabricksView5b1b79a\")\n        elif type(__backend_agg_dfs[0]).__module__ == \"pandas.core.frame\" or isinstance(__backend_agg_dfs[0], list):\n            # pandas dataframe\n            spark.createDataFrame(__backend_agg_dfs[0]).createOrReplaceTempView(\"DatabricksView5b1b79a\")\n        else:\n            __backend_agg_dfs[0].createOrReplaceTempView(\"DatabricksView5b1b79a\")\n        #run backend agg\n        display(spark.sql(\"\"\"WITH q AS (select * from DatabricksView5b1b79a) SELECT `star_rating`,SUM(`percentage`) `column_2bb250102`,`product_title` FROM q GROUP BY `product_title`,`star_rating`\"\"\"))\n    else:\n        displayHTML(\"dataframe no longer exists. If you're using dataframe.display(), use display(dataframe) instead.\")\n\n\nfinally:\n    spark.sql(\"drop view if exists DatabricksView5b1b79a\")\n    display = __backend_agg_display_orig\n    del __backend_agg_display_new\n    del __backend_agg_display_orig\n    del __backend_agg_dfs\n    del __backend_agg_user_code_fn\n\n",
       "commandTitle": "Visualization 1",
       "commandType": "auto",
       "commandVersion": 0,
       "commentThread": [],
       "commentsVisible": false,
       "contentSha256Hex": null,
       "customPlotOptions": {
        "redashChart": [
         {
          "key": "type",
          "value": "CHART"
         },
         {
          "key": "options",
          "value": {
           "alignYAxesAtZero": true,
           "coefficient": 1,
           "columnConfigurationMap": {
            "series": {
             "column": "product_title",
             "id": "column_2bb250103"
            },
            "x": {
             "column": "star_rating",
             "id": "column_2bb250101"
            },
            "y": [
             {
              "column": "percentage",
              "id": "column_2bb250102",
              "transform": "SUM"
             }
            ]
           },
           "dateTimeFormat": "DD/MM/YYYY HH:mm",
           "direction": {
            "type": "counterclockwise"
           },
           "error_y": {
            "type": "data",
            "visible": true
           },
           "globalSeriesType": "pie",
           "isAggregationOn": true,
           "legend": {
            "traceorder": "normal"
           },
           "missingValuesAsZero": true,
           "numberFormat": "0,0[.]00000",
           "percentFormat": "0[.]00%",
           "series": {
            "error_y": {
             "type": "data",
             "visible": true
            },
            "stacking": null
           },
           "seriesOptions": {
            "Clockwork Synergy Classic Nylon Nato watch straps bands": {
             "name": "Ratings summary on frequently buying products"
            },
            "column_2bb250102": {
             "name": "percentage",
             "type": "pie",
             "yAxis": 0
            }
           },
           "showDataLabels": true,
           "sizemode": "diameter",
           "sortX": true,
           "sortY": true,
           "swappedAxes": false,
           "textFormat": "",
           "useAggregationsUi": true,
           "valuesOptions": {},
           "version": 2,
           "xAxis": {
            "labels": {
             "enabled": true
            },
            "type": "-"
           },
           "yAxis": [
            {
             "type": "-"
            },
            {
             "opposite": true,
             "type": "-"
            }
           ]
          }
         }
        ]
       },
       "datasetPreviewNameToCmdIdMap": {},
       "diffDeletes": [],
       "diffInserts": [],
       "displayType": "redashChart",
       "error": null,
       "errorSummary": null,
       "errorTraceType": null,
       "finishTime": 0,
       "globalVars": {},
       "guid": "5a41a57b-44b6-423b-8276-62a492085e28",
       "height": "338",
       "hideCommandCode": false,
       "hideCommandResult": false,
       "iPythonMetadata": null,
       "inputWidgets": {},
       "isLockedInExamMode": false,
       "latestUser": "a user",
       "latestUserId": null,
       "listResultMetadata": null,
       "metadata": {},
       "nuid": "0ec6ec70-ecf0-4203-b490-5bac116ac789",
       "origId": 1807584091440847,
       "parentHierarchy": [
        "c068040e-bd02-4557-8f4f-697e30c77c9e"
       ],
       "pivotAggregation": null,
       "pivotColumns": null,
       "position": 45.4375,
       "resultDbfsErrorMessage": null,
       "resultDbfsStatus": "INLINED_IN_TREE",
       "results": null,
       "showCommandTitle": false,
       "startTime": 0,
       "state": "input",
       "streamStates": {},
       "subcommandOptions": {
        "queryPlan": {
         "groups": [
          {
           "column": "star_rating",
           "type": "column"
          },
          {
           "column": "product_title",
           "type": "column"
          }
         ],
         "selects": [
          {
           "column": "star_rating",
           "type": "column"
          },
          {
           "alias": "column_2bb250102",
           "args": [
            {
             "column": "percentage",
             "type": "column"
            }
           ],
           "function": "SUM",
           "type": "function"
          },
          {
           "column": "product_title",
           "type": "column"
          }
         ]
        }
       },
       "submitTime": 0,
       "subtype": "tableResultSubCmd.visualization",
       "tableResultIndex": 0,
       "useConsistentColors": false,
       "version": "CommandV1",
       "width": "995",
       "workflows": [],
       "xColumns": null,
       "yColumns": null
      }
     },
     "output_type": "display_data"
    }
   ],
   "source": [
    "display(product_percentages\n",
    "       )"
   ]
  },
  {
   "cell_type": "markdown",
   "metadata": {
    "application/vnd.databricks.v1+cell": {
     "cellMetadata": {},
     "inputWidgets": {},
     "nuid": "45e160b5-431b-4f8d-afb2-ff6396dd372c",
     "showTitle": false,
     "title": ""
    }
   },
   "source": [
    "##### 2c.b. Sentiment score variation over time"
   ]
  },
  {
   "cell_type": "code",
   "execution_count": null,
   "metadata": {
    "application/vnd.databricks.v1+cell": {
     "cellMetadata": {
      "byteLimit": 2048000,
      "rowLimit": 10000
     },
     "inputWidgets": {},
     "nuid": "5d1a3550-48cb-4660-9483-28ab4405d79f",
     "showTitle": false,
     "title": ""
    }
   },
   "outputs": [],
   "source": [
    "def get_sentiment_score(review_text: pd.Series) -> pd.Series:\n",
    "    \"\"\"\n",
    "    Calculates the sentiment score of a given review text using TextBlob library.\n",
    "    Returns a float value between -1.0 and 1.0.\n",
    "    \"\"\"\n",
    "    return review_text.apply(lambda x: TextBlob(str(x)).sentiment.polarity)\n",
    "\n",
    "# Define pandas_udf with FloatType return type\n",
    "get_sentiment_score_pudf = pandas_udf(get_sentiment_score, FloatType())\n",
    "\n",
    "# Apply the pandas_udf on the review_body column\n",
    "sentiment_trend_df = df_top_1.withColumn(\"sentiment_score\", get_sentiment_score_pudf(F.col(\"review_body\"))).withColumn(\"review_month\", F.month(\"review_date\"))\n"
   ]
  },
  {
   "cell_type": "code",
   "execution_count": null,
   "metadata": {
    "application/vnd.databricks.v1+cell": {
     "cellMetadata": {
      "byteLimit": 2048000,
      "rowLimit": 10000
     },
     "inputWidgets": {},
     "nuid": "cbf27797-8ff6-466b-9bb9-495d89538ecc",
     "showTitle": false,
     "title": ""
    }
   },
   "outputs": [
    {
     "data": {
      "image/png": "[encoded data removed]"
     },
     "metadata": {
      "application/vnd.databricks.v1+output": {
       "addedWidgets": {},
       "arguments": {},
       "data": "data:image/png;base64,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\n",
       "datasetInfos": [],
       "metadata": {},
       "removedWidgets": [],
       "type": "image"
      }
     },
     "output_type": "display_data"
    },
    {
     "name": "stdout",
     "output_type": "stream",
     "text": [
      "Out[91]: (None,)"
     ]
    }
   ],
   "source": [
    "# Group by month and calculate the average sentiment score\n",
    "monthly_sentiment_df = sentiment_trend_df.groupBy('review_month').avg('sentiment_score')\n",
    "\n",
    "# Convert to Pandas DataFrame and sort by month\n",
    "monthly_sentiment_pd = monthly_sentiment_df.toPandas().sort_values('review_month')\n",
    "\n",
    "# Create bar plot\n",
    "plt.figure(figsize=(10, 6))\n",
    "sns.barplot(x='review_month', y='avg(sentiment_score)', data=monthly_sentiment_pd)\n",
    "plt.xlabel('Month')\n",
    "plt.ylabel('Average Sentiment Score')\n",
    "plt.title('Sentiment Score by Month')\n",
    "plt.show(),"
   ]
  },
  {
   "cell_type": "markdown",
   "metadata": {
    "application/vnd.databricks.v1+cell": {
     "cellMetadata": {},
     "inputWidgets": {},
     "nuid": "879907b0-9146-4f17-b297-ca9c280e87f2",
     "showTitle": false,
     "title": ""
    }
   },
   "source": [
    "### 3. Recommendation system"
   ]
  },
  {
   "cell_type": "markdown",
   "metadata": {
    "application/vnd.databricks.v1+cell": {
     "cellMetadata": {},
     "inputWidgets": {},
     "nuid": "d8b40295-d166-4570-bd3f-59a7881c5312",
     "showTitle": false,
     "title": ""
    }
   },
   "source": [
    "## Page rank algorithm :using graph-based algorithms for generating recommendations for new customers.\n",
    "\n",
    "This approach involves developing a graph of items (products) and users, where the edges between nodes represent user-item interactions. By analyzing the graph structure, algorithm can identify clusters of similar items and users, and make recommendations based on these clusters."
   ]
  },
  {
   "cell_type": "code",
   "execution_count": null,
   "metadata": {
    "application/vnd.databricks.v1+cell": {
     "cellMetadata": {
      "byteLimit": 2048000,
      "rowLimit": 10000
     },
     "inputWidgets": {},
     "nuid": "f2b569b9-5694-4d62-a364-8521c83bde94",
     "showTitle": false,
     "title": ""
    }
   },
   "outputs": [],
   "source": [
    "def create_product_review_graph(review_product_features_df):\n",
    "    \"\"\"\n",
    "    Given a DataFrame containing product review data and features, create's a GraphFrame representing the product review graph.\n",
    "    \"\"\"\n",
    "    # Convert the DataFrame to a GraphFrame\n",
    "    vertices = review_product_features_df.selectExpr(\n",
    "        \"product_parent as id\", \n",
    "        \"average_rating as average_rating\",\n",
    "        \"number_of_reviews as number_of_reviews\"\n",
    "    )\n",
    "    edges = review_product_features_df.selectExpr(\n",
    "        \"customer_id as src\", \n",
    "        \"product_parent as dst\"\n",
    "    )\n",
    "    g = GraphFrame(vertices, edges)\n",
    "\n",
    "    return g\n"
   ]
  },
  {
   "cell_type": "code",
   "execution_count": null,
   "metadata": {
    "application/vnd.databricks.v1+cell": {
     "cellMetadata": {
      "byteLimit": 2048000,
      "rowLimit": 10000
     },
     "inputWidgets": {},
     "nuid": "e41ea992-b0f3-47a1-a376-84023ab0aad6",
     "showTitle": false,
     "title": ""
    }
   },
   "outputs": [],
   "source": [
    "def cluster_products_by_pagerank_and_features(product_features_df):\n",
    "    \"\"\"\n",
    "    Clusters products based on their PageRank scores and features.\n",
    "    Returns a DataFrame containing the product ID, cluster assignment, and PageRank score.\n",
    "    \"\"\"\n",
    "    # Create a GraphFrame with the review data\n",
    "    g = create_product_review_graph(product_features_df)\n",
    "    \n",
    "    print(\"Completed creating Graphframe\\n\")\n",
    "    \n",
    "    print(\"Running Page rank.........\\n\")\n",
    "    # Calculating the PageRank of each product\n",
    "    pr = g.pageRank(resetProbability=0.15, tol=0.01)\n",
    "    \n",
    "    print(\"Done !!!\\n\")\n",
    "\n",
    "    # Joining the PageRank scores with the product features DataFrame\n",
    "    product_clusters_df = pr.vertices.join(\n",
    "        product_features_df.select('product_parent'),\n",
    "        pr.vertices[\"id\"] == product_features_df[\"product_parent\"],\n",
    "        how=\"inner\"\n",
    "    )\n",
    "    \n",
    "    print(\"Clustering pr scores and features to make recommendation\\n\")\n",
    "    # Cluster the products based on their PageRank scores and features\n",
    "    assembler = VectorAssembler(\n",
    "        inputCols=[\"average_rating\", \"number_of_reviews\", \"pagerank\"],\n",
    "        outputCol=\"features\"\n",
    "    )\n",
    "    product_clusters_df = assembler.transform(product_clusters_df)\n",
    "\n",
    "    kmeans = KMeans(k=3, seed=1)\n",
    "    model = kmeans.fit(product_clusters_df.select(\"features\"))\n",
    "    \n",
    "    print(\"Model training done .....\\n\")\n",
    "    \n",
    "    print(\"Making Predictions........\\n\")\n",
    "    predictions = model.transform(product_clusters_df)\n",
    "\n",
    "    \n",
    "    return predictions\n"
   ]
  },
  {
   "cell_type": "markdown",
   "metadata": {
    "application/vnd.databricks.v1+cell": {
     "cellMetadata": {},
     "inputWidgets": {},
     "nuid": "e3c97a3a-6d86-4d8f-bf77-f5e896256793",
     "showTitle": false,
     "title": ""
    }
   },
   "source": [
    "## Input to Page rank"
   ]
  },
  {
   "cell_type": "code",
   "execution_count": null,
   "metadata": {
    "application/vnd.databricks.v1+cell": {
     "cellMetadata": {
      "byteLimit": 2048000,
      "rowLimit": 10000
     },
     "inputWidgets": {},
     "nuid": "ba0d371b-c86d-441f-ac5c-8d43dad029ac",
     "showTitle": false,
     "title": ""
    }
   },
   "outputs": [
    {
     "name": "stdout",
     "output_type": "stream",
     "text": [
      "Completed creating Graphframe\n",
      "\n",
      "Running Page rank.........\n",
      "\n",
      "/databricks/spark/python/pyspark/sql/dataframe.py:129: UserWarning: DataFrame constructor is internal. Do not directly use it.\n",
      "  warnings.warn(\"DataFrame constructor is internal. Do not directly use it.\")\n",
      "Done !!!\n",
      "\n",
      "Clustering pr scores and features to make recommendation\n",
      "\n",
      "Model training done .....\n",
      "\n",
      "Making Predictions........\n",
      "\n",
      "Done !!!\n",
      "Evaluating the model ........\n",
      "Silhouette with squared euclidean distance = 0.7916846604224284\n"
     ]
    }
   ],
   "source": [
    "#constraint: limiting the dataframe, since pagerank cannot be computed on 300mb of data due to cluster size.\n",
    "df_reviews_final_limited = df_reviews_final.limit(5000)\n",
    "\n",
    "# Creating a DataFrame with review and product IDs\n",
    "review_product_df = df_reviews_final_limited.select(\"customer_id\", \"product_parent\").distinct()\n",
    "\n",
    "# Creating a DataFrame with product features (e.g. rating, number of reviews, etc.)\n",
    "product_features_df = df_reviews_final_limited.groupBy(\"product_parent\").agg(\n",
    "    F.avg(\"star_rating\").alias(\"average_rating\"),\n",
    "    F.count(\"*\").alias(\"number_of_reviews\")\n",
    ")\n",
    "# Joining the two DataFrames to get a DataFrame with review and product features\n",
    "review_product_features_df = review_product_df.join(\n",
    "    product_features_df,\n",
    "    \"product_parent\"\n",
    ")\n",
    "\n",
    "predictions = cluster_products_by_pagerank_and_features(review_product_features_df)\n",
    "\n",
    "print(\"Done !!!\")\n",
    "\n",
    "# Select the relevant columns and return the result\n",
    "results = predictions.select(\n",
    "    F.col(\"id\").alias(\"product_parent\"),\n",
    "    F.col(\"prediction\").alias(\"cluster\"),\n",
    "    F.col(\"pagerank\")\n",
    ")\n",
    "\n",
    "print(\"Evaluating the model ........\")\n",
    "# Evaluate the clustering\n",
    "evaluator = ClusteringEvaluator()\n",
    "silhouette = evaluator.evaluate(predictions)\n",
    "\n",
    "print(\"Silhouette with squared euclidean distance = \" + str(silhouette))\n"
   ]
  },
  {
   "cell_type": "markdown",
   "metadata": {
    "application/vnd.databricks.v1+cell": {
     "cellMetadata": {},
     "inputWidgets": {},
     "nuid": "559e597e-21a0-4f14-8cff-ae36dae3fb8c",
     "showTitle": false,
     "title": ""
    }
   },
   "source": [
    "Silhouette score ranges from -1 to 1, where a score of -1 indicates incorrect clustering, 0 indicates overlapping clusters and 1 indicates highly dense and well-separated clusters. Generally, a silhouette score of 0.7 or above is considered good for most practical purposes."
   ]
  },
  {
   "cell_type": "markdown",
   "metadata": {
    "application/vnd.databricks.v1+cell": {
     "cellMetadata": {},
     "inputWidgets": {},
     "nuid": "d388e326-6aa6-4615-b3d8-b070e6d0e83c",
     "showTitle": false,
     "title": ""
    }
   },
   "source": [
    "# Products for Recommendations on Home page of new customers"
   ]
  },
  {
   "cell_type": "code",
   "execution_count": null,
   "metadata": {
    "application/vnd.databricks.v1+cell": {
     "cellMetadata": {
      "byteLimit": 2048000,
      "rowLimit": 10000
     },
     "inputWidgets": {},
     "nuid": "e4a46f41-556a-4331-af26-c424c94b9cfe",
     "showTitle": false,
     "title": ""
    }
   },
   "outputs": [
    {
     "data": {
      "text/html": [
       "<style scoped>\n",
       "  .table-result-container {\n",
       "    max-height: 300px;\n",
       "    overflow: auto;\n",
       "  }\n",
       "  table, th, td {\n",
       "    border: 1px solid black;\n",
       "    border-collapse: collapse;\n",
       "  }\n",
       "  th, td {\n",
       "    padding: 5px;\n",
       "  }\n",
       "  th {\n",
       "    text-align: left;\n",
       "  }\n",
       "</style><div class='table-result-container'><table class='table-result'><thead style='background-color: white'><tr><th>product_title</th></tr></thead><tbody><tr><td>Casio Lrw200h-7bvcf Womens Dive Series Diver Look Analog Watch</td></tr><tr><td>SE JT6216 21-Piece Watch Repair Kit</td></tr><tr><td>Timex Men's Expedition Field Chronograph Watch</td></tr><tr><td>Casio Women's LRW-200H-2BVCF Stainless Steel Watch Resin Band</td></tr><tr><td>Invicta Men's 8928OB Pro Diver Gold Stainless Steel Two-Tone Automatic Watch</td></tr><tr><td>Motorola Moto 360 Modern Timepiece Smart Watch - Black Leather 00418NARTL</td></tr><tr><td>Bling Jewelry Plated Classic Round CZ Ladies Watch</td></tr><tr><td>Timex Weekender Slip Thru Black/Black Watch</td></tr><tr><td>Timex Unisex Weekender Analog Quartz Watch</td></tr><tr><td>Casio Men's Black Resin Dive Watch, with Black Face and Bi-Directional Rotating Bezel, 100 Meters Water Resistant, Features Day/Date Display, and Long Battery Life</td></tr><tr><td>Casio Men's Sport Analog Dive Watch</td></tr><tr><td>Stuhrling Original Men's Aquadiver Dive Quartz Analog Waterproof Sports Blue Dial Wrist Watch Bracelet with Stainless Steel</td></tr><tr><td>Stuhrling Original Men's 699.02 Aviator Quartz Day and Date Grey Dial Brown Leather Band Watch</td></tr><tr><td>Casio Women's LRW200H-7E2VCF Dive Series Diver-Look White Watch</td></tr><tr><td>Timex T2n654 Men's Weekender White Dial Blue and Gray Nylon Band Watch</td></tr><tr><td>SE - Watch Repair Tool Kit, 16 Pc - JT6221 Original</td></tr><tr><td>Timex Unisex T2n651 Weekender Olive Slip-thru Nylon Strap Watch</td></tr><tr><td>Timex T2n651 Weekender Slip Through Nylon Strap Casual Analog Watch Olive Green</td></tr><tr><td>NYLON 20MM BLACK WATERPROOF BAND WITH QUICK RELEASE FITS TIMEX T2N647KW WEEKENDER WATCHES</td></tr></tbody></table></div>"
      ]
     },
     "metadata": {
      "application/vnd.databricks.v1+output": {
       "addedWidgets": {},
       "aggData": [],
       "aggError": "",
       "aggOverflow": false,
       "aggSchema": [],
       "aggSeriesLimitReached": false,
       "aggType": "",
       "arguments": {},
       "columnCustomDisplayInfos": {},
       "data": [
        [
         "Casio Lrw200h-7bvcf Womens Dive Series Diver Look Analog Watch"
        ],
        [
         "SE JT6216 21-Piece Watch Repair Kit"
        ],
        [
         "Timex Men's Expedition Field Chronograph Watch"
        ],
        [
         "Casio Women's LRW-200H-2BVCF Stainless Steel Watch Resin Band"
        ],
        [
         "Invicta Men's 8928OB Pro Diver Gold Stainless Steel Two-Tone Automatic Watch"
        ],
        [
         "Motorola Moto 360 Modern Timepiece Smart Watch - Black Leather 00418NARTL"
        ],
        [
         "Bling Jewelry Plated Classic Round CZ Ladies Watch"
        ],
        [
         "Timex Weekender Slip Thru Black/Black Watch"
        ],
        [
         "Timex Unisex Weekender Analog Quartz Watch"
        ],
        [
         "Casio Men's Black Resin Dive Watch, with Black Face and Bi-Directional Rotating Bezel, 100 Meters Water Resistant, Features Day/Date Display, and Long Battery Life"
        ],
        [
         "Casio Men's Sport Analog Dive Watch"
        ],
        [
         "Stuhrling Original Men's Aquadiver Dive Quartz Analog Waterproof Sports Blue Dial Wrist Watch Bracelet with Stainless Steel"
        ],
        [
         "Stuhrling Original Men's 699.02 Aviator Quartz Day and Date Grey Dial Brown Leather Band Watch"
        ],
        [
         "Casio Women's LRW200H-7E2VCF Dive Series Diver-Look White Watch"
        ],
        [
         "Timex T2n654 Men's Weekender White Dial Blue and Gray Nylon Band Watch"
        ],
        [
         "SE - Watch Repair Tool Kit, 16 Pc - JT6221 Original"
        ],
        [
         "Timex Unisex T2n651 Weekender Olive Slip-thru Nylon Strap Watch"
        ],
        [
         "Timex T2n651 Weekender Slip Through Nylon Strap Casual Analog Watch Olive Green"
        ],
        [
         "NYLON 20MM BLACK WATERPROOF BAND WITH QUICK RELEASE FITS TIMEX T2N647KW WEEKENDER WATCHES"
        ]
       ],
       "datasetInfos": [],
       "dbfsResultPath": null,
       "isJsonSchema": true,
       "metadata": {},
       "overflow": false,
       "plotOptions": {
        "customPlotOptions": {},
        "displayType": "table",
        "pivotAggregation": null,
        "pivotColumns": null,
        "xColumns": null,
        "yColumns": null
       },
       "removedWidgets": [],
       "schema": [
        {
         "metadata": "{}",
         "name": "product_title",
         "type": "\"string\""
        }
       ],
       "type": "table"
      }
     },
     "output_type": "display_data"
    }
   ],
   "source": [
    "results = results.distinct()\n",
    "sorted_nodes = results.sort('pagerank', ascending=False)\n",
    "top_k_nodes = [row['product_parent'] for row in sorted_nodes.head(10)]\n",
    "filtered_df = df_reviews_final.filter(F.col('product_parent').isin(top_k_nodes)).select('product_title').distinct()\n",
    "display(filtered_df)"
   ]
  },
  {
   "cell_type": "markdown",
   "metadata": {
    "application/vnd.databricks.v1+cell": {
     "cellMetadata": {},
     "inputWidgets": {},
     "nuid": "435d01f4-d5ae-4df8-87e2-e3e725797bdf",
     "showTitle": false,
     "title": ""
    }
   },
   "source": [
    "## NLP technique\n",
    "\n",
    "Natural Language Processing (NLP) techniques can be used to analyze user reviews to extract insights about user preferences and behavior. This data is then used to train machine learning model for personalized recommendations."
   ]
  },
  {
   "cell_type": "code",
   "execution_count": null,
   "metadata": {
    "application/vnd.databricks.v1+cell": {
     "cellMetadata": {
      "byteLimit": 2048000,
      "rowLimit": 10000
     },
     "inputWidgets": {},
     "nuid": "1a445903-688f-44d0-8d10-fb8673af126d",
     "showTitle": false,
     "title": ""
    }
   },
   "outputs": [],
   "source": [
    "\n",
    "# Define a function to recommend products based on user's reviews\n",
    "def recommend_products_using_nlp(user_reviews, tfidf,tfidf_matrix,num_recommendations=5):\n",
    "    \n",
    "    # Computing TF-IDF matrix for the user's review text\n",
    "    user_tfidf_matrix = tfidf.transform([user_reviews])\n",
    "    \n",
    "    # Computing cosine similarity between the user's review and all reviews in the dataset\n",
    "    user_cosine_sim = cosine_similarity(user_tfidf_matrix, tfidf_matrix)[0]\n",
    "    \n",
    "    # Sorting reviews by cosine similarity score in descending order\n",
    "    review_indices = list(enumerate(user_cosine_sim))\n",
    "    review_indices_sorted = sorted(review_indices, key=lambda x:x[1], reverse=True)\n",
    "    \n",
    "    # Get the indices of the top N most similar reviews\n",
    "    top_review_indices = [i[0] for i in review_indices_sorted[:num_recommendations]]\n",
    "    \n",
    "    # Get the product IDs for the top N reviews\n",
    "    top_product_ids = df_reviews.iloc[top_review_indices]['product_id'].tolist()\n",
    "    \n",
    "    # Get the product names for the top N reviews\n",
    "    top_product_names = df_reviews.iloc[top_review_indices]['product_title'].tolist()\n",
    "    \n",
    "    # Return the top N product IDs and names as recommendations\n",
    "    return {'product_ids': top_product_ids, 'product_names': top_product_names}\n"
   ]
  },
  {
   "cell_type": "code",
   "execution_count": null,
   "metadata": {
    "application/vnd.databricks.v1+cell": {
     "cellMetadata": {
      "byteLimit": 2048000,
      "rowLimit": 10000
     },
     "inputWidgets": {},
     "nuid": "c09f0a0d-8eef-4685-948e-55f4b5045bd4",
     "showTitle": false,
     "title": ""
    }
   },
   "outputs": [],
   "source": [
    "# input to NLP, Limiting dataset to avoid memory issue\n",
    "df_watches = df_watches_review_limited.limit(5000)\n",
    "df_gift = df_gift_card_review.limit(5000)\n",
    "df_personal_item = df_personal_care_review.limit(5000)\n",
    "df_union_1 = df_watches.union(df_gift)\n",
    "df_nlp = df_union_1.union(df_personal_item)\n",
    "\n",
    "#\n",
    "df_reviews = df_nlp.toPandas()\n",
    "\n",
    "# Performing text preprocessing\n",
    "df_reviews['review_body'] = df_reviews['review_body'].apply(lambda x: str(x).lower())  # convert to lowercase\n",
    "df_reviews['review_body'] = df_reviews['review_body'].apply(lambda x: ' '.join(x.split()))  # remove extra whitespaces\n"
   ]
  },
  {
   "cell_type": "markdown",
   "metadata": {
    "application/vnd.databricks.v1+cell": {
     "cellMetadata": {},
     "inputWidgets": {},
     "nuid": "ed555651-49f0-45bc-a284-63e0e7349597",
     "showTitle": false,
     "title": ""
    }
   },
   "source": [
    "## Training TfidfVectorizer to perform collabrative filtering.\n",
    "\n",
    "Collaborative Filtering: It is a method of making automatic predictions (filtering) about the interests of a user by collecting preferences or taste information from many users (collaborating). Using user-based collaborative filtering i.e., the rating of an item for a user based on the ratings of similar users,"
   ]
  },
  {
   "cell_type": "code",
   "execution_count": null,
   "metadata": {
    "application/vnd.databricks.v1+cell": {
     "cellMetadata": {
      "byteLimit": 2048000,
      "rowLimit": 10000
     },
     "inputWidgets": {},
     "nuid": "16fc36a8-0da8-4e85-b672-f549b71d22ba",
     "showTitle": false,
     "title": ""
    }
   },
   "outputs": [],
   "source": [
    "# Create a TF-IDF matrix for the review text\n",
    "tfidf = TfidfVectorizer(stop_words='english')\n",
    "tfidf_matrix = tfidf.fit_transform(df_reviews['review_body'])\n"
   ]
  },
  {
   "cell_type": "markdown",
   "metadata": {
    "application/vnd.databricks.v1+cell": {
     "cellMetadata": {},
     "inputWidgets": {},
     "nuid": "9c5a4676-c6d2-4f44-bba8-cb8874cec210",
     "showTitle": false,
     "title": ""
    }
   },
   "source": [
    "# Generating recommendations based on review's"
   ]
  },
  {
   "cell_type": "code",
   "execution_count": null,
   "metadata": {
    "application/vnd.databricks.v1+cell": {
     "cellMetadata": {
      "byteLimit": 2048000,
      "rowLimit": 10000
     },
     "inputWidgets": {},
     "nuid": "352181e1-11d9-4772-94c5-cb37b5e6674d",
     "showTitle": false,
     "title": ""
    }
   },
   "outputs": [
    {
     "name": "stdout",
     "output_type": "stream",
     "text": [
      "user review: Invacare no longer makes a quad cane with a plastic base and 5 cane tips as shown in this picture (as I did, you can check their web site to be sure).  If you purchase this product you will be shipped a slightly heavier cane with a metal base and four legs/tips.      In my experience, the plastic based canes are less durable because they tend to break easily when very cold, but I nevertheless prefer them because they are lighted weight. The handle is also more comfortable than other quad canes.\n",
      "\n",
      "Recommended products:\n",
      "1. Body Back Company’s Body Back Buddy Trigger Point Therapy Self Massage Tool - PARENT\n",
      "2. Lobob Soft Contact Insertion/Removal Kit\n",
      "3. Readers Microvision W-Case 1.50\n",
      "4. Plastic Braille Slate 28 Cell 4 Line\n",
      "5. Body Back Company’s Body Back Buddy Trigger Point Therapy Self Massage Tool - PARENT\n"
     ]
    }
   ],
   "source": [
    "# Example usage1: recommend products based on user's reviews\n",
    "user_reviews = \"Invacare no longer makes a quad cane with a plastic base and 5 cane tips as shown in this picture (as I did, you can check their web site to be sure).  If you purchase this product you will be shipped a slightly heavier cane with a metal base and four legs/tips.      In my experience, the plastic based canes are less durable because they tend to break easily when very cold, but I nevertheless prefer them because they are lighted weight. The handle is also more comfortable than other quad canes.\"\n",
    "\n",
    "print(\"user review:\", user_reviews)\n",
    "recommendations = recommend_products_using_nlp(user_reviews,tfidf,tfidf_matrix)\n",
    "print(\"\\nRecommended products:\")\n",
    "for i, product in enumerate(recommendations['product_names']):\n",
    "    print(f\"{i+1}. {product}\")\n",
    "    "
   ]
  },
  {
   "cell_type": "code",
   "execution_count": null,
   "metadata": {
    "application/vnd.databricks.v1+cell": {
     "cellMetadata": {
      "byteLimit": 2048000,
      "rowLimit": 10000
     },
     "inputWidgets": {},
     "nuid": "4fb477e4-6ae8-4da5-b510-e3c218f08aa1",
     "showTitle": false,
     "title": ""
    }
   },
   "outputs": [
    {
     "name": "stdout",
     "output_type": "stream",
     "text": [
      "user review: I love this watch, daniel Wellington women's watch is the best watch for me\n",
      "\n",
      "Recommended products:\n",
      "1. Casio F91W Digital Sports Watch\n",
      "2. Bulova Men's 98A123 BVA-SERIES Two-Tone Stainless Steel Automatic Bracelet Watch\n",
      "3. Fossil Women's ES3148 Georgia Three-Hand Gold-Tone Stainless Steel Watch with Leather Band\n",
      "4. Fossil Women's ES3040 Stella Grey Aluminum and Stainless Steel Watch\n",
      "5. Casio Men's MTP1244D-2A Silver Stainless-Steel Quartz Watch with Blue Dial\n"
     ]
    }
   ],
   "source": [
    "# Example usage2: recommend products based on user's reviews\n",
    "user_reviews = \"I love this watch, daniel Wellington women's watch is the best watch for me\"\n",
    "\n",
    "print(\"user review:\", user_reviews)\n",
    "recommendations = recommend_products_using_nlp(user_reviews,tfidf,tfidf_matrix)\n",
    "print(\"\\nRecommended products:\")\n",
    "for i, product in enumerate(recommendations['product_names']):\n",
    "    print(f\"{i+1}. {product}\")"
   ]
  },
  {
   "cell_type": "markdown",
   "metadata": {
    "application/vnd.databricks.v1+cell": {
     "cellMetadata": {},
     "inputWidgets": {},
     "nuid": "61a88132-0a5b-403f-aebe-9f2329592ffb",
     "showTitle": false,
     "title": ""
    }
   },
   "source": [
    "### Reference\n",
    "\n",
    "1. Recommender Systems in E-Commerce https://dl.acm.org/doi/pdf/10.1145/336992.337035#:~:text=Recommender%20systems%20are%20used%20by,prediction%20for%20future%20buying%20behavior.\n",
    "\n",
    "2. https://medium.com/federatedai/sentiment-analysis-in-e-commerce-e8a06a498a75\n",
    "\n",
    "3. Aws public access dataset: \n",
    "    1. https://s3.amazonaws.com/amazon-reviews-pds/readme.html\n",
    "    2. https://s3.amazonaws.com/amazon-reviews-pds/tsv/index.txt"
   ]
  },
  {
   "cell_type": "code",
   "execution_count": null,
   "metadata": {
    "application/vnd.databricks.v1+cell": {
     "cellMetadata": {},
     "inputWidgets": {},
     "nuid": "246889af-d7df-4fda-bdd9-cc2f868d108b",
     "showTitle": false,
     "title": ""
    }
   },
   "outputs": [],
   "source": []
  }
 ],
 "metadata": {
  "application/vnd.databricks.v1+notebook": {
   "dashboards": [
    {
     "elements": [],
     "globalVars": {},
     "guid": "c3c00592-d864-4610-ba83-0bbc66f8d357",
     "layoutOption": {
      "grid": true,
      "stack": true
     },
     "nuid": "7508c643-a81a-4089-bd86-c91c85d1e842",
     "origId": 730018478646910,
     "title": "Untitled",
     "version": "DashboardViewV1",
     "width": 1024
    },
    {
     "elements": [
      {
       "dashboardResultIndex": null,
       "elementNUID": "46bac067-1874-46bb-a9f4-1e87b02ca011",
       "elementType": "command",
       "guid": "211e91c7-e0b1-4cb0-893f-f370d968dab0",
       "options": null,
       "position": {
        "height": 2,
        "width": 12,
        "x": 0,
        "y": 0,
        "z": null
       },
       "resultIndex": null
      },
      {
       "dashboardResultIndex": null,
       "elementNUID": "243753ec-a194-4a27-ada6-269405bc690a",
       "elementType": "command",
       "guid": "2268ce13-2267-4a58-8a4a-61510022c381",
       "options": null,
       "position": {
        "height": 2,
        "width": 12,
        "x": 0,
        "y": 6,
        "z": null
       },
       "resultIndex": null
      },
      {
       "dashboardResultIndex": null,
       "elementNUID": "20ea5437-978c-400b-b176-3b34457cc4fd",
       "elementType": "command",
       "guid": "5aa938ef-9774-44d9-938d-dea3051ed483",
       "options": null,
       "position": {
        "height": 2,
        "width": 12,
        "x": 0,
        "y": 12,
        "z": null
       },
       "resultIndex": null
      },
      {
       "dashboardResultIndex": null,
       "elementNUID": "466a2c2a-cd6a-4912-99c6-413354a2e917",
       "elementType": "command",
       "guid": "75e29b81-1c34-41d5-867a-a93c3d054484",
       "options": null,
       "position": {
        "height": 4,
        "width": 12,
        "x": 0,
        "y": 18,
        "z": null
       },
       "resultIndex": null
      },
      {
       "dashboardResultIndex": null,
       "elementNUID": "3d206165-472a-4bad-9f44-c5c4c375d2f1",
       "elementType": "command",
       "guid": "82c5fe09-7709-4f18-8f20-cce153a25363",
       "options": null,
       "position": {
        "height": 2,
        "width": 12,
        "x": 0,
        "y": 24,
        "z": null
       },
       "resultIndex": null
      },
      {
       "dashboardResultIndex": null,
       "elementNUID": "dce61b71-90f0-4a58-a5b7-174bfa0dc08a",
       "elementType": "command",
       "guid": "96df800d-319d-4e69-ba4b-4d4d04c159bc",
       "options": null,
       "position": {
        "height": 2,
        "width": 12,
        "x": 0,
        "y": 30,
        "z": null
       },
       "resultIndex": null
      },
      {
       "dashboardResultIndex": null,
       "elementNUID": "8e5d685b-fb2d-4d03-9339-657b0d204c64",
       "elementType": "command",
       "guid": "a36c6665-add5-475e-96ec-2986e2893546",
       "options": null,
       "position": {
        "height": 2,
        "width": 12,
        "x": 0,
        "y": 36,
        "z": null
       },
       "resultIndex": null
      },
      {
       "dashboardResultIndex": null,
       "elementNUID": "fcb76b80-911e-4865-9931-24599a76e3b8",
       "elementType": "command",
       "guid": "cb682639-cb26-49e8-9c34-e89fb83abb43",
       "options": null,
       "position": {
        "height": 2,
        "width": 12,
        "x": 0,
        "y": 42,
        "z": null
       },
       "resultIndex": null
      },
      {
       "dashboardResultIndex": null,
       "elementNUID": "f470f36e-8a4d-4dfc-9d02-0b0489fdb858",
       "elementType": "command",
       "guid": "cefe6a4c-3dce-4a8f-afa3-10282ae6e93d",
       "options": null,
       "position": {
        "height": 2,
        "width": 12,
        "x": 0,
        "y": 48,
        "z": null
       },
       "resultIndex": null
      },
      {
       "dashboardResultIndex": null,
       "elementNUID": "fa2f50f5-5700-4964-ab2e-633fad6c25ed",
       "elementType": "command",
       "guid": "de1dbc60-6fb7-4ed4-a6fe-c93377fb09ef",
       "options": null,
       "position": {
        "height": 2,
        "width": 12,
        "x": 0,
        "y": 54,
        "z": null
       },
       "resultIndex": null
      },
      {
       "dashboardResultIndex": 0,
       "elementNUID": "184b0574-830c-454c-aad4-34d5fd028281",
       "elementType": "command",
       "guid": "fed9b306-0557-480d-aad2-dc63ed5b7e5c",
       "options": null,
       "position": {
        "height": 6,
        "width": 12,
        "x": 0,
        "y": 66,
        "z": null
       },
       "resultIndex": null
      }
     ],
     "globalVars": {},
     "guid": "ab4128e5-a4f1-48f6-859d-46dde4d26a3d",
     "layoutOption": {
      "grid": true,
      "stack": false
     },
     "nuid": "2cb75c19-32c5-4e64-8f21-38bebf4eb5b8",
     "origId": 730018478646911,
     "title": "Untitled",
     "version": "DashboardViewV1",
     "width": 1024
    }
   ],
   "language": "python",
   "notebookMetadata": {
    "mostRecentlyExecutedCommandWithImplicitDF": {
     "commandId": 1012451875780658,
     "dataframes": [
      "_sqldf"
     ]
    },
    "pythonIndentUnit": 4
   },
   "notebookName": "Data603sp22_siranjeevilu_shobana_final_project",
   "widgets": {}
  },
  "language_info": {
   "name": "python"
  }
 },
 "nbformat": 4,
 "nbformat_minor": 0
}
